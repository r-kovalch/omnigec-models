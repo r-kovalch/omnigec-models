{
 "cells": [
  {
   "cell_type": "markdown",
   "metadata": {
    "id": "view-in-github",
    "colab_type": "text"
   },
   "source": [
    "<a href=\"https://colab.research.google.com/github/Reennon/multigec-models/blob/main/notebooks/aya_expanse_8b/multigec/multigec_prediction_fluency.ipynb\" target=\"_parent\"><img src=\"https://colab.research.google.com/assets/colab-badge.svg\" alt=\"Open In Colab\"/></a>"
   ]
  },
  {
   "cell_type": "code",
   "execution_count": null,
   "metadata": {
    "id": "UsXRO225aQG5"
   },
   "outputs": [],
   "source": [
    "import os\n",
    "\n",
    "from google.colab import userdata\n",
    "\n",
    "os.environ[\"GIT_TOKEN\"] = userdata.get('git_token')"
   ]
  },
  {
   "cell_type": "code",
   "source": [
    "from google.colab import drive\n",
    "drive.mount('/content/drive')"
   ],
   "metadata": {
    "id": "aduMiBeD946F",
    "outputId": "82cfd852-1401-49d6-f4c8-790660bb7c64",
    "colab": {
     "base_uri": "https://localhost:8080/"
    }
   },
   "execution_count": null,
   "outputs": []
  },
  {
   "cell_type": "code",
   "execution_count": null,
   "metadata": {
    "colab": {
     "base_uri": "https://localhost:8080/"
    },
    "id": "J_IRXNxZaF4Y",
    "outputId": "334da115-1272-4c4b-bd6d-3819baf4a800"
   },
   "outputs": [],
   "source": [
    "!git clone https://$GIT_TOKEN@github.com/Reennon/omnigec-models.git"
   ]
  },
  {
   "cell_type": "code",
   "execution_count": null,
   "metadata": {
    "colab": {
     "base_uri": "https://localhost:8080/"
    },
    "id": "u7b_-L4YdQdS",
    "outputId": "6539bc83-7b4b-49eb-ad55-7cd3a3f16360"
   },
   "outputs": [],
   "source": [
    "%cd omnigec-models"
   ]
  },
  {
   "cell_type": "code",
   "execution_count": null,
   "metadata": {
    "id": "ak_WBUcgdWYE",
    "colab": {
     "base_uri": "https://localhost:8080/"
    },
    "outputId": "185d29ca-bade-4037-856e-24aa0a5a741d"
   },
   "outputs": [],
   "source": [
    "!git pull"
   ]
  },
  {
   "cell_type": "code",
   "execution_count": null,
   "metadata": {
    "colab": {
     "base_uri": "https://localhost:8080/"
    },
    "id": "M0zzclvTdlkE",
    "outputId": "a553a8bd-db9c-44ff-f5c3-e20a7c763254",
    "collapsed": true
   },
   "outputs": [],
   "source": [
    "!pip install -U bitsandbytes peft accelerate datasets sentencepiece wandb python-dotenv wtpsplit -q\n",
    "!pip install flash-attn --no-build-isolation -q\n",
    "!pip install wtpsplit==2.1.1 -q\n",
    "!pip install syntok==1.4.4 -q\n",
    "!pip install omegaconf -q\n",
    "!pip install wandb -q\n",
    "!pip install --upgrade transformers trl -q\n",
    "!pip install pandas numpy -q"
   ]
  },
  {
   "cell_type": "code",
   "execution_count": null,
   "metadata": {
    "colab": {
     "base_uri": "https://localhost:8080/"
    },
    "id": "lBGK2EtZO6tR",
    "outputId": "04ad1f23-2aa9-4a96-c93c-078af820f809"
   },
   "outputs": [],
   "source": [
    "from google.colab import drive\n",
    "drive.mount('/gdrive')"
   ]
  },
  {
   "cell_type": "code",
   "execution_count": null,
   "metadata": {
    "id": "xLa_z_uleW1O"
   },
   "outputs": [],
   "source": [
    "import os\n",
    "\n",
    "from omegaconf import OmegaConf\n",
    "from transformers import AutoModelForCausalLM, AutoTokenizer, AutoConfig\n",
    "from huggingface_hub import login\n",
    "from src.utils.multigec import sentences, LANG_TO_CODE, LANG_CODE_TO_TOKEN\n",
    "from src.utils.aya_utils import inference_formatting_prompts_func as formatting_prompts_func\n",
    "from langchain_core.prompts import PromptTemplate\n",
    "\n",
    "from src.instruction_templates import multigec_prompts\n",
    "\n",
    "import torch\n",
    "import wandb\n",
    "\n",
    "from transformers import BitsAndBytesConfig\n",
    "from tqdm import tqdm\n",
    "from trl.trainer import ConstantLengthDataset\n",
    "import pandas as pd\n",
    "from datasets import Dataset\n",
    "from transformers.trainer_callback import EarlyStoppingCallback\n",
    "\n",
    "from transformers import TrainingArguments\n",
    "from trl import SFTConfig, SFTTrainer\n",
    "from peft import LoraConfig\n",
    "\n",
    "from peft import PeftModel, PeftModelForCausalLM\n",
    "\n",
    "tqdm.pandas()"
   ]
  },
  {
   "cell_type": "code",
   "execution_count": null,
   "metadata": {
    "id": "ZrXeF2PMTA9C"
   },
   "outputs": [],
   "source": [
    "parameters = OmegaConf.load(\"./params/aya_expanse_8b.yaml\")"
   ]
  },
  {
   "cell_type": "code",
   "execution_count": null,
   "metadata": {
    "id": "2orS0nY-j3QY"
   },
   "outputs": [],
   "source": [
    "track     = \"fluency\"\n",
    "fine_tuned_model_name = f\"aya-expanse-8b-multigec-{track}\"\n",
    "\n",
    "hf_key   = userdata.get(\"hf_key\")\n",
    "secret_wandb = userdata.get(\"wandb_key\")\n",
    "\n",
    "in_path  = f\"/content/drive/MyDrive/omnigec/datasets/multigec_{track}.csv\"\n",
    "out_path = f\"/content/drive/MyDrive/omnigec/preds/multigec_test_{track}.csv\"\n",
    "\n",
    "out_model_dir = f\"/content/drive/MyDrive/omnigec/models/{fine_tuned_model_name}\"\n",
    "QUANTIZE_4BIT = True\n",
    "device   = \"cuda:0\""
   ]
  },
  {
   "cell_type": "code",
   "execution_count": null,
   "metadata": {
    "id": "5ATeEv_etKR1"
   },
   "outputs": [],
   "source": [
    "login(hf_key)"
   ]
  },
  {
   "cell_type": "code",
   "execution_count": null,
   "metadata": {
    "id": "oB4Vv3zFyHLd",
    "colab": {
     "base_uri": "https://localhost:8080/"
    },
    "outputId": "f74cc33d-3e8a-4ce6-a945-d3ef6cec171f"
   },
   "outputs": [],
   "source": [
    "!env TORCH_USE_CUDA_DSA=1 -q"
   ]
  },
  {
   "cell_type": "code",
   "execution_count": null,
   "metadata": {
    "colab": {
     "base_uri": "https://localhost:8080/",
     "height": 225,
     "referenced_widgets": [
      "e4cc5e897a5f4f49a980a82b0fc1bc9f",
      "969d7e8485d84c769758bebe2f8316dc",
      "ecaf0fa48e7b49bfbf8875f1f0f36e89",
      "ba354b1819d646348c5f78b7a4cc0cf2",
      "66398e9eb804439bacd134fbd2663059",
      "a05139096ddd4bde98f9520c65313db5",
      "bf79a66470754a3699277e04cc1bf632",
      "0a6a0acb8af740e680df86a9be1ac0d0",
      "92ebe71e0a80485890e8cab01296d0f0",
      "e5261d1ba82b4b1abbe8184200e01e77",
      "cda3e4b343aa479f8ae6f77fd9b983a6"
     ]
    },
    "id": "npCYpk8StL1L",
    "outputId": "da1043ef-1765-4def-b38f-fa74ee167d64"
   },
   "outputs": [],
   "source": [
    "base_model = \"CohereForAI/aya-expanse-8b\"\n",
    "saved_checkpoint = out_model_dir + \"/checkpoint-400\"\n",
    "\n",
    "quantization_config = None\n",
    "if QUANTIZE_4BIT:\n",
    "  quantization_config = BitsAndBytesConfig(\n",
    "      load_in_4bit=True,\n",
    "      bnb_4bit_quant_type=\"nf4\",\n",
    "      bnb_4bit_use_double_quant=True,\n",
    "      bnb_4bit_compute_dtype=torch.bfloat16,\n",
    "  )\n",
    "tokenizer = AutoTokenizer.from_pretrained(saved_checkpoint)\n",
    "config = AutoConfig.from_pretrained(base_model)\n",
    "base_model_instance = AutoModelForCausalLM.from_pretrained(\n",
    "    base_model,\n",
    "    config=config,\n",
    "    quantization_config=quantization_config,\n",
    "    torch_dtype=torch.bfloat16,\n",
    "    device_map=device,\n",
    "    attn_implementation=\"flash_attention_2\",\n",
    ")\n",
    "base_model_instance.resize_token_embeddings(len(tokenizer))\n",
    "model = PeftModelForCausalLM.from_pretrained(\n",
    "    base_model_instance,\n",
    "    saved_checkpoint,\n",
    "    torch_dtype=torch.bfloat16,\n",
    "    device_map=device,\n",
    "    ignore_mismatched_sizes=True\n",
    ")\n"
   ]
  },
  {
   "cell_type": "code",
   "execution_count": null,
   "metadata": {
    "id": "tc_-2FtptNPf"
   },
   "outputs": [],
   "source": [
    "multigec_df = pd.read_csv(in_path)\n",
    "train_df = multigec_df.loc[multigec_df.loc[:, \"split\"] == \"train\"]\n",
    "val_df = multigec_df.loc[multigec_df.loc[:, \"split\"] == \"val\"]\n",
    "test_df = multigec_df.loc[multigec_df.loc[:, \"split\"] == \"test\"]"
   ]
  },
  {
   "cell_type": "code",
   "source": [
    "from torch.utils.data import DataLoader\n",
    "from tqdm import tqdm\n",
    "\n",
    "max_new_tokens = 1600\n",
    "batch_size = 10\n",
    "save_each = 50\n",
    "\n",
    "# Assume test_df already exists and out_path is defined.\n",
    "# Filter rows that need processing (target is empty/NaN).\n",
    "to_process_df = test_df[test_df[\"target\"].isna()].reset_index()  # preserve original index in \"index\" column\n",
    "\n",
    "def collate_fn(examples):\n",
    "    indices = [ex[\"index\"] for ex in examples]\n",
    "    texts = [formatting_prompts_func(example) for example in examples]\n",
    "    tokenized = tokenizer(\n",
    "        texts,\n",
    "        padding=True,\n",
    "        truncation=True,\n",
    "        return_tensors=\"pt\"\n",
    "    )\n",
    "    tokenized[\"indices\"] = indices\n",
    "    return tokenized\n",
    "\n",
    "\n",
    "# Create DataLoader using only the rows that need processing.\n",
    "dataloader = DataLoader(\n",
    "    to_process_df.to_dict(orient=\"records\"),\n",
    "    batch_size=batch_size,\n",
    "    collate_fn=collate_fn\n",
    ")\n",
    "\n",
    "processed_rows = 0\n",
    "for batch in tqdm(dataloader):\n",
    "    input_ids = batch[\"input_ids\"].to(model.device)\n",
    "    attention_mask = batch.get(\"attention_mask\", None)\n",
    "    if attention_mask is not None:\n",
    "        attention_mask = attention_mask.to(model.device)\n",
    "    prompt_padded_len = len(input_ids[0])\n",
    "\n",
    "    gen_tokens = model.generate(\n",
    "        input_ids,\n",
    "        attention_mask=attention_mask,\n",
    "        temperature=parameters.baseline.temperature,\n",
    "        top_p=parameters.baseline.top_p,\n",
    "        top_k=parameters.baseline.top_k,\n",
    "        max_new_tokens=max_new_tokens,\n",
    "        do_sample=True,\n",
    "    )\n",
    "\n",
    "    # Remove the prompt tokens from the generated tokens\n",
    "    gen_tokens = [gt[prompt_padded_len:] for gt in gen_tokens]\n",
    "\n",
    "    # Decode generated tokens to text corrections\n",
    "    corrections = tokenizer.batch_decode(gen_tokens, skip_special_tokens=True)\n",
    "    corrections = [\"\".join(c) for c in corrections]\n",
    "\n",
    "    # Update the original DataFrame using the indices provided in the batch.\n",
    "    for idx, corr in zip(batch[\"indices\"], corrections):\n",
    "        test_df.loc[idx, \"target\"] = corr\n",
    "        processed_rows += 1\n",
    "\n",
    "        if processed_rows % save_each == 0:\n",
    "            test_df.to_csv(out_path, index=False)\n",
    "            print(f\"Saved progress after processing {processed_rows} rows.\")\n",
    "\n",
    "# Final save after processing all batches.\n",
    "test_df.to_csv(out_path, index=False)\n",
    "print(\"Final save complete!\")\n"
   ],
   "metadata": {
    "colab": {
     "base_uri": "https://localhost:8080/"
    },
    "id": "TJN5Jz1b-w6m",
    "outputId": "1a4c670e-0c69-4eb6-8b73-2b3931a675bf"
   },
   "execution_count": null,
   "outputs": []
  },
  {
   "cell_type": "code",
   "source": [
    "from google.colab import runtime\n",
    "runtime.unassign()"
   ],
   "metadata": {
    "id": "-kuc_5OVv5O_"
   },
   "execution_count": null,
   "outputs": []
  }
 ],
 "metadata": {
  "accelerator": "GPU",
  "colab": {
   "gpuType": "A100",
   "machine_shape": "hm",
   "provenance": [],
   "include_colab_link": true
  },
  "kernelspec": {
   "display_name": "Python 3",
   "name": "python3"
  },
  "language_info": {
   "name": "python"
  },
  "widgets": {
   "application/vnd.jupyter.widget-state+json": {
    "e4cc5e897a5f4f49a980a82b0fc1bc9f": {
     "model_module": "@jupyter-widgets/controls",
     "model_name": "HBoxModel",
     "model_module_version": "1.5.0",
     "state": {
      "_dom_classes": [],
      "_model_module": "@jupyter-widgets/controls",
      "_model_module_version": "1.5.0",
      "_model_name": "HBoxModel",
      "_view_count": null,
      "_view_module": "@jupyter-widgets/controls",
      "_view_module_version": "1.5.0",
      "_view_name": "HBoxView",
      "box_style": "",
      "children": [
       "IPY_MODEL_969d7e8485d84c769758bebe2f8316dc",
       "IPY_MODEL_ecaf0fa48e7b49bfbf8875f1f0f36e89",
       "IPY_MODEL_ba354b1819d646348c5f78b7a4cc0cf2"
      ],
      "layout": "IPY_MODEL_66398e9eb804439bacd134fbd2663059"
     }
    },
    "969d7e8485d84c769758bebe2f8316dc": {
     "model_module": "@jupyter-widgets/controls",
     "model_name": "HTMLModel",
     "model_module_version": "1.5.0",
     "state": {
      "_dom_classes": [],
      "_model_module": "@jupyter-widgets/controls",
      "_model_module_version": "1.5.0",
      "_model_name": "HTMLModel",
      "_view_count": null,
      "_view_module": "@jupyter-widgets/controls",
      "_view_module_version": "1.5.0",
      "_view_name": "HTMLView",
      "description": "",
      "description_tooltip": null,
      "layout": "IPY_MODEL_a05139096ddd4bde98f9520c65313db5",
      "placeholder": "​",
      "style": "IPY_MODEL_bf79a66470754a3699277e04cc1bf632",
      "value": "Loading checkpoint shards: 100%"
     }
    },
    "ecaf0fa48e7b49bfbf8875f1f0f36e89": {
     "model_module": "@jupyter-widgets/controls",
     "model_name": "FloatProgressModel",
     "model_module_version": "1.5.0",
     "state": {
      "_dom_classes": [],
      "_model_module": "@jupyter-widgets/controls",
      "_model_module_version": "1.5.0",
      "_model_name": "FloatProgressModel",
      "_view_count": null,
      "_view_module": "@jupyter-widgets/controls",
      "_view_module_version": "1.5.0",
      "_view_name": "ProgressView",
      "bar_style": "success",
      "description": "",
      "description_tooltip": null,
      "layout": "IPY_MODEL_0a6a0acb8af740e680df86a9be1ac0d0",
      "max": 4,
      "min": 0,
      "orientation": "horizontal",
      "style": "IPY_MODEL_92ebe71e0a80485890e8cab01296d0f0",
      "value": 4
     }
    },
    "ba354b1819d646348c5f78b7a4cc0cf2": {
     "model_module": "@jupyter-widgets/controls",
     "model_name": "HTMLModel",
     "model_module_version": "1.5.0",
     "state": {
      "_dom_classes": [],
      "_model_module": "@jupyter-widgets/controls",
      "_model_module_version": "1.5.0",
      "_model_name": "HTMLModel",
      "_view_count": null,
      "_view_module": "@jupyter-widgets/controls",
      "_view_module_version": "1.5.0",
      "_view_name": "HTMLView",
      "description": "",
      "description_tooltip": null,
      "layout": "IPY_MODEL_e5261d1ba82b4b1abbe8184200e01e77",
      "placeholder": "​",
      "style": "IPY_MODEL_cda3e4b343aa479f8ae6f77fd9b983a6",
      "value": " 4/4 [00:12&lt;00:00,  2.59s/it]"
     }
    },
    "66398e9eb804439bacd134fbd2663059": {
     "model_module": "@jupyter-widgets/base",
     "model_name": "LayoutModel",
     "model_module_version": "1.2.0",
     "state": {
      "_model_module": "@jupyter-widgets/base",
      "_model_module_version": "1.2.0",
      "_model_name": "LayoutModel",
      "_view_count": null,
      "_view_module": "@jupyter-widgets/base",
      "_view_module_version": "1.2.0",
      "_view_name": "LayoutView",
      "align_content": null,
      "align_items": null,
      "align_self": null,
      "border": null,
      "bottom": null,
      "display": null,
      "flex": null,
      "flex_flow": null,
      "grid_area": null,
      "grid_auto_columns": null,
      "grid_auto_flow": null,
      "grid_auto_rows": null,
      "grid_column": null,
      "grid_gap": null,
      "grid_row": null,
      "grid_template_areas": null,
      "grid_template_columns": null,
      "grid_template_rows": null,
      "height": null,
      "justify_content": null,
      "justify_items": null,
      "left": null,
      "margin": null,
      "max_height": null,
      "max_width": null,
      "min_height": null,
      "min_width": null,
      "object_fit": null,
      "object_position": null,
      "order": null,
      "overflow": null,
      "overflow_x": null,
      "overflow_y": null,
      "padding": null,
      "right": null,
      "top": null,
      "visibility": null,
      "width": null
     }
    },
    "a05139096ddd4bde98f9520c65313db5": {
     "model_module": "@jupyter-widgets/base",
     "model_name": "LayoutModel",
     "model_module_version": "1.2.0",
     "state": {
      "_model_module": "@jupyter-widgets/base",
      "_model_module_version": "1.2.0",
      "_model_name": "LayoutModel",
      "_view_count": null,
      "_view_module": "@jupyter-widgets/base",
      "_view_module_version": "1.2.0",
      "_view_name": "LayoutView",
      "align_content": null,
      "align_items": null,
      "align_self": null,
      "border": null,
      "bottom": null,
      "display": null,
      "flex": null,
      "flex_flow": null,
      "grid_area": null,
      "grid_auto_columns": null,
      "grid_auto_flow": null,
      "grid_auto_rows": null,
      "grid_column": null,
      "grid_gap": null,
      "grid_row": null,
      "grid_template_areas": null,
      "grid_template_columns": null,
      "grid_template_rows": null,
      "height": null,
      "justify_content": null,
      "justify_items": null,
      "left": null,
      "margin": null,
      "max_height": null,
      "max_width": null,
      "min_height": null,
      "min_width": null,
      "object_fit": null,
      "object_position": null,
      "order": null,
      "overflow": null,
      "overflow_x": null,
      "overflow_y": null,
      "padding": null,
      "right": null,
      "top": null,
      "visibility": null,
      "width": null
     }
    },
    "bf79a66470754a3699277e04cc1bf632": {
     "model_module": "@jupyter-widgets/controls",
     "model_name": "DescriptionStyleModel",
     "model_module_version": "1.5.0",
     "state": {
      "_model_module": "@jupyter-widgets/controls",
      "_model_module_version": "1.5.0",
      "_model_name": "DescriptionStyleModel",
      "_view_count": null,
      "_view_module": "@jupyter-widgets/base",
      "_view_module_version": "1.2.0",
      "_view_name": "StyleView",
      "description_width": ""
     }
    },
    "0a6a0acb8af740e680df86a9be1ac0d0": {
     "model_module": "@jupyter-widgets/base",
     "model_name": "LayoutModel",
     "model_module_version": "1.2.0",
     "state": {
      "_model_module": "@jupyter-widgets/base",
      "_model_module_version": "1.2.0",
      "_model_name": "LayoutModel",
      "_view_count": null,
      "_view_module": "@jupyter-widgets/base",
      "_view_module_version": "1.2.0",
      "_view_name": "LayoutView",
      "align_content": null,
      "align_items": null,
      "align_self": null,
      "border": null,
      "bottom": null,
      "display": null,
      "flex": null,
      "flex_flow": null,
      "grid_area": null,
      "grid_auto_columns": null,
      "grid_auto_flow": null,
      "grid_auto_rows": null,
      "grid_column": null,
      "grid_gap": null,
      "grid_row": null,
      "grid_template_areas": null,
      "grid_template_columns": null,
      "grid_template_rows": null,
      "height": null,
      "justify_content": null,
      "justify_items": null,
      "left": null,
      "margin": null,
      "max_height": null,
      "max_width": null,
      "min_height": null,
      "min_width": null,
      "object_fit": null,
      "object_position": null,
      "order": null,
      "overflow": null,
      "overflow_x": null,
      "overflow_y": null,
      "padding": null,
      "right": null,
      "top": null,
      "visibility": null,
      "width": null
     }
    },
    "92ebe71e0a80485890e8cab01296d0f0": {
     "model_module": "@jupyter-widgets/controls",
     "model_name": "ProgressStyleModel",
     "model_module_version": "1.5.0",
     "state": {
      "_model_module": "@jupyter-widgets/controls",
      "_model_module_version": "1.5.0",
      "_model_name": "ProgressStyleModel",
      "_view_count": null,
      "_view_module": "@jupyter-widgets/base",
      "_view_module_version": "1.2.0",
      "_view_name": "StyleView",
      "bar_color": null,
      "description_width": ""
     }
    },
    "e5261d1ba82b4b1abbe8184200e01e77": {
     "model_module": "@jupyter-widgets/base",
     "model_name": "LayoutModel",
     "model_module_version": "1.2.0",
     "state": {
      "_model_module": "@jupyter-widgets/base",
      "_model_module_version": "1.2.0",
      "_model_name": "LayoutModel",
      "_view_count": null,
      "_view_module": "@jupyter-widgets/base",
      "_view_module_version": "1.2.0",
      "_view_name": "LayoutView",
      "align_content": null,
      "align_items": null,
      "align_self": null,
      "border": null,
      "bottom": null,
      "display": null,
      "flex": null,
      "flex_flow": null,
      "grid_area": null,
      "grid_auto_columns": null,
      "grid_auto_flow": null,
      "grid_auto_rows": null,
      "grid_column": null,
      "grid_gap": null,
      "grid_row": null,
      "grid_template_areas": null,
      "grid_template_columns": null,
      "grid_template_rows": null,
      "height": null,
      "justify_content": null,
      "justify_items": null,
      "left": null,
      "margin": null,
      "max_height": null,
      "max_width": null,
      "min_height": null,
      "min_width": null,
      "object_fit": null,
      "object_position": null,
      "order": null,
      "overflow": null,
      "overflow_x": null,
      "overflow_y": null,
      "padding": null,
      "right": null,
      "top": null,
      "visibility": null,
      "width": null
     }
    },
    "cda3e4b343aa479f8ae6f77fd9b983a6": {
     "model_module": "@jupyter-widgets/controls",
     "model_name": "DescriptionStyleModel",
     "model_module_version": "1.5.0",
     "state": {
      "_model_module": "@jupyter-widgets/controls",
      "_model_module_version": "1.5.0",
      "_model_name": "DescriptionStyleModel",
      "_view_count": null,
      "_view_module": "@jupyter-widgets/base",
      "_view_module_version": "1.2.0",
      "_view_name": "StyleView",
      "description_width": ""
     }
    }
   }
  }
 },
 "nbformat": 4,
 "nbformat_minor": 0
}
