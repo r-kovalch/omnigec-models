{
 "cells": [
  {
   "cell_type": "markdown",
   "metadata": {
    "id": "view-in-github",
    "colab_type": "text"
   },
   "source": [
    "<a href=\"https://colab.research.google.com/github/Reennon/multigec-models/blob/main/notebooks/aya_expanse_8b/multigec/multigec_plus_wikiedits_minimal.ipynb\" target=\"_parent\"><img src=\"https://colab.research.google.com/assets/colab-badge.svg\" alt=\"Open In Colab\"/></a>"
   ]
  },
  {
   "cell_type": "code",
   "execution_count": null,
   "metadata": {
    "id": "UsXRO225aQG5"
   },
   "outputs": [],
   "source": [
    "import os\n",
    "\n",
    "from google.colab import userdata\n",
    "\n",
    "os.environ[\"GIT_TOKEN\"] = userdata.get('git_token')"
   ]
  },
  {
   "cell_type": "code",
   "execution_count": null,
   "metadata": {
    "colab": {
     "base_uri": "https://localhost:8080/"
    },
    "id": "J_IRXNxZaF4Y",
    "outputId": "56d95c96-f38c-4409-e55f-a4e93e0693b9"
   },
   "outputs": [],
   "source": [
    "!git clone https://$GIT_TOKEN@github.com/Reennon/omnigec-models.git"
   ]
  },
  {
   "cell_type": "code",
   "execution_count": null,
   "metadata": {
    "colab": {
     "base_uri": "https://localhost:8080/"
    },
    "id": "u7b_-L4YdQdS",
    "outputId": "97698320-2c73-4bcd-bcef-424768fc6ba0"
   },
   "outputs": [],
   "source": [
    "%cd omnigec-models"
   ]
  },
  {
   "cell_type": "code",
   "execution_count": null,
   "metadata": {
    "id": "ak_WBUcgdWYE",
    "colab": {
     "base_uri": "https://localhost:8080/"
    },
    "outputId": "5b5dc265-a147-4106-b1dd-13d55b86b580"
   },
   "outputs": [],
   "source": [
    "!git pull"
   ]
  },
  {
   "cell_type": "code",
   "execution_count": null,
   "metadata": {
    "colab": {
     "base_uri": "https://localhost:8080/"
    },
    "id": "M0zzclvTdlkE",
    "outputId": "4bf7c08a-2ac7-4dbf-ace6-576e300a6d78",
    "collapsed": true
   },
   "outputs": [],
   "source": [
    "!pip install -U bitsandbytes peft accelerate datasets sentencepiece wandb python-dotenv wtpsplit -q\n",
    "!pip install flash-attn --no-build-isolation -q\n",
    "!pip install wtpsplit==2.1.1 -q\n",
    "!pip install syntok==1.4.4 -q\n",
    "!pip install omegaconf -q\n",
    "!pip install wandb -q\n",
    "!pip install --upgrade transformers trl -q\n",
    "!pip install pandas numpy -q"
   ]
  },
  {
   "cell_type": "code",
   "execution_count": null,
   "metadata": {
    "colab": {
     "base_uri": "https://localhost:8080/"
    },
    "id": "lBGK2EtZO6tR",
    "outputId": "eb1c7991-fed7-4888-e528-cf2bec7ba42f"
   },
   "outputs": [],
   "source": [
    "from google.colab import drive\n",
    "drive.mount('/gdrive')"
   ]
  },
  {
   "cell_type": "code",
   "execution_count": null,
   "metadata": {
    "id": "xLa_z_uleW1O"
   },
   "outputs": [],
   "source": [
    "import os\n",
    "\n",
    "from omegaconf import OmegaConf\n",
    "from transformers import AutoModelForCausalLM, AutoTokenizer, AutoConfig\n",
    "from huggingface_hub import login\n",
    "from src.utils.multigec import sentences, LANG_TO_CODE, LANG_CODE_TO_TOKEN\n",
    "from src.utils.aya_utils import training_formatting_prompts_func as formatting_prompts_func\n",
    "from langchain_core.prompts import PromptTemplate\n",
    "\n",
    "from src.instruction_templates import multigec_prompts\n",
    "\n",
    "import torch\n",
    "import wandb\n",
    "\n",
    "from transformers import BitsAndBytesConfig\n",
    "from tqdm import tqdm\n",
    "from trl.trainer import ConstantLengthDataset\n",
    "import pandas as pd\n",
    "from datasets import Dataset\n",
    "from transformers.trainer_callback import EarlyStoppingCallback\n",
    "\n",
    "from transformers import TrainingArguments\n",
    "from trl import SFTConfig, SFTTrainer\n",
    "from peft import LoraConfig\n",
    "\n",
    "tqdm.pandas()"
   ]
  },
  {
   "cell_type": "code",
   "execution_count": null,
   "metadata": {
    "id": "ZrXeF2PMTA9C"
   },
   "outputs": [],
   "source": [
    "parameters = OmegaConf.load(\"./params/aya_expanse_8b.yaml\")"
   ]
  },
  {
   "cell_type": "code",
   "execution_count": null,
   "metadata": {
    "id": "2orS0nY-j3QY"
   },
   "outputs": [],
   "source": [
    "track                   = \"minimal\"\n",
    "model_name              = \"aya-expanse-8b\"\n",
    "fine_tuned_model_name   = f\"aya-expanse-8b-multigec-wikiedits-{track}\"\n",
    "experiment_name         = f\"multigec-{track}-{model_name}\"\n",
    "\n",
    "hf_key                  = userdata.get(\"hf_key\")\n",
    "secret_wandb            = userdata.get(\"wandb_key\")\n",
    "\n",
    "in_path                 = f\"/gdrive/MyDrive/omnigec/datasets/multigec_wikiedits_{track}.csv\"\n",
    "out_path                = f\"/gdrive/MyDrive/omnigec/preds/multigec_wikiedits_test_{track}.csv\"\n",
    "out_model_dir           = f\"/gdrive/MyDrive/omnigec/models/{fine_tuned_model_name}\"\n",
    "\n",
    "QUANTIZE_4BIT           = True\n",
    "device                  = \"cuda:0\""
   ]
  },
  {
   "cell_type": "code",
   "execution_count": null,
   "metadata": {
    "id": "28RJwo6zBniK",
    "collapsed": true,
    "colab": {
     "base_uri": "https://localhost:8080/"
    },
    "outputId": "59b439a1-db28-4b8e-b25f-e6b3c30985c5"
   },
   "outputs": [],
   "source": [
    "wandb_project_name = f'{model_name.upper()}-multigec-wikiedits-{track}'\n",
    "\n",
    "wandb.login(key = secret_wandb)"
   ]
  },
  {
   "cell_type": "code",
   "execution_count": null,
   "metadata": {
    "id": "5ATeEv_etKR1"
   },
   "outputs": [],
   "source": [
    "login(hf_key)"
   ]
  },
  {
   "cell_type": "code",
   "execution_count": null,
   "metadata": {
    "id": "oB4Vv3zFyHLd",
    "colab": {
     "base_uri": "https://localhost:8080/"
    },
    "outputId": "5ad4d9e9-c1ff-4337-bc15-f2495a37ecf4"
   },
   "outputs": [],
   "source": [
    "!env TORCH_USE_CUDA_DSA=1"
   ]
  },
  {
   "cell_type": "code",
   "execution_count": null,
   "metadata": {
    "id": "npCYpk8StL1L",
    "colab": {
     "base_uri": "https://localhost:8080/",
     "height": 173,
     "referenced_widgets": [
      "2895e3301b224ed3b7775c0796f71e10",
      "7e02a3a02261452f8cf979ec5a2d6153",
      "8cba91655fd046c682796808c35e2727",
      "16936e5a9e47436799e6788b73df8ce1",
      "9872f6d7beb341309d4f92288053c04f",
      "645c774fcf0e4aeaae00f0f7c1d841ae",
      "26ce2c4f04cd47188b5fdccaf6534483",
      "60a0daba777344f7889324dba397ccc7",
      "a6b3c3a802ba44e3990ccad9355719b9",
      "580f3b00b2094b9c941dbd1901bd76e3",
      "8f75cf0eb7794a6f95c77237ead8e142"
     ]
    },
    "outputId": "52a856bc-161b-469a-92c7-ea5064e0b99f"
   },
   "outputs": [],
   "source": [
    "checkpoint = \"CohereForAI/aya-expanse-8b\"\n",
    "quantization_config = None\n",
    "if QUANTIZE_4BIT:\n",
    "  quantization_config = BitsAndBytesConfig(\n",
    "      load_in_4bit=True,\n",
    "      bnb_4bit_quant_type=\"nf4\",\n",
    "      bnb_4bit_use_double_quant=True,\n",
    "      bnb_4bit_compute_dtype=torch.bfloat16,\n",
    "  )\n",
    "tokenizer = AutoTokenizer.from_pretrained(checkpoint)\n",
    "config = AutoConfig.from_pretrained(checkpoint)\n",
    "model = AutoModelForCausalLM.from_pretrained(\n",
    "    checkpoint,\n",
    "    config=config,\n",
    "    quantization_config=quantization_config,\n",
    "    torch_dtype=\"bfloat16\",\n",
    "    device_map=device,\n",
    "    attn_implementation=\"flash_attention_2\",\n",
    ")"
   ]
  },
  {
   "cell_type": "code",
   "execution_count": null,
   "metadata": {
    "id": "tc_-2FtptNPf"
   },
   "outputs": [],
   "source": [
    "multigec_df = pd.read_csv(in_path)\n",
    "train_df = multigec_df.loc[multigec_df.loc[:, \"split\"] == \"train\"]\n",
    "val_df = multigec_df.loc[multigec_df.loc[:, \"split\"] == \"val\"]"
   ]
  },
  {
   "cell_type": "code",
   "source": [
    "num_added_toks = tokenizer.add_tokens(\n",
    "    [v for v in LANG_CODE_TO_TOKEN.values()],\n",
    "    special_tokens=True\n",
    ")\n",
    "model.resize_token_embeddings(len(tokenizer))"
   ],
   "metadata": {
    "id": "vCZ22H5qWpOa",
    "colab": {
     "base_uri": "https://localhost:8080/"
    },
    "outputId": "f43964ee-b414-4001-f5c0-f453e7f6dc45"
   },
   "execution_count": null,
   "outputs": []
  },
  {
   "cell_type": "code",
   "execution_count": null,
   "metadata": {
    "id": "uQjCg7j6G3SL"
   },
   "outputs": [],
   "source": [
    "training_dataset = Dataset.from_pandas(train_df).shuffle()\n",
    "val_dataset = Dataset.from_pandas(val_df).shuffle()\n",
    "\n",
    "seq_length = 1600\n",
    "\n",
    "cld_train_dataset = ConstantLengthDataset(\n",
    "    tokenizer=tokenizer,\n",
    "    dataset=training_dataset,\n",
    "    seq_length=seq_length,\n",
    "    eos_token_id=tokenizer.eos_token_id,\n",
    "    shuffle=True,\n",
    "    append_concat_token=True,\n",
    "    add_special_tokens=True,\n",
    "    formatting_func=formatting_prompts_func,\n",
    ")\n",
    "cld_val_dataset = ConstantLengthDataset(\n",
    "    tokenizer=tokenizer,\n",
    "    dataset=val_dataset,\n",
    "    seq_length=int(seq_length/2),\n",
    "    eos_token_id=tokenizer.eos_token_id,\n",
    "    shuffle=True,\n",
    "    append_concat_token=True,\n",
    "    add_special_tokens=True,\n",
    "    formatting_func=formatting_prompts_func,\n",
    ")"
   ]
  },
  {
   "cell_type": "code",
   "execution_count": null,
   "metadata": {
    "id": "hMLq8PqqwozH"
   },
   "outputs": [],
   "source": [
    "parameters.training[\"per_device_train_batch_size\"] = 5\n",
    "parameters.training[\"num_train_epochs\"] = 8\n",
    "parameters.training[\"save_steps\"] = 100\n",
    "parameters.training[\"eval_steps\"] = 100"
   ]
  },
  {
   "cell_type": "code",
   "execution_count": null,
   "metadata": {
    "id": "-fXDzcmVNJ7D",
    "colab": {
     "base_uri": "https://localhost:8080/",
     "height": 355
    },
    "outputId": "e36d2f99-c86c-4921-d1be-acc5c07e5832"
   },
   "outputs": [],
   "source": [
    "run = wandb.init(\n",
    "    project=wandb_project_name,\n",
    "    job_type=\"training\",\n",
    "    anonymous=\"allow\"\n",
    ")\n",
    "\n",
    "wandb.config.update(dict(parameters.training))\n",
    "\n",
    "peft_config = LoraConfig(\n",
    "    r=parameters.lora.r,\n",
    "    lora_alpha=parameters.lora.lora_alpha,\n",
    "    target_modules=list(parameters.lora.target_modules),\n",
    "    bias=parameters.lora.bias,\n",
    "    task_type=parameters.lora.task_type\n",
    ")\n",
    "training_arguments = SFTConfig(\n",
    "    **parameters.training,\n",
    "    packing=True,\n",
    "    max_seq_length=seq_length,\n",
    "    output_dir=out_model_dir,\n",
    "    ignore_data_skip=True,\n",
    ")\n",
    "trainer = SFTTrainer(\n",
    "    model=model,\n",
    "    train_dataset=cld_train_dataset,\n",
    "    eval_dataset=cld_val_dataset,\n",
    "    peft_config=peft_config,\n",
    "    args=training_arguments,\n",
    "    callbacks=[EarlyStoppingCallback(early_stopping_patience=parameters.early_stopping.early_stopping_patience)],\n",
    ")\n",
    "\n",
    "with torch.backends.cuda.sdp_kernel(\n",
    "    enable_flash=True,\n",
    "    enable_math=False,\n",
    "    enable_mem_efficient=False\n",
    "):\n",
    "    trainer.train()"
   ]
  },
  {
   "cell_type": "code",
   "source": [
    "from google.colab import runtime\n",
    "runtime.unassign()"
   ],
   "metadata": {
    "id": "yxmQqfoBo3sC"
   },
   "execution_count": null,
   "outputs": []
  }
 ],
 "metadata": {
  "accelerator": "GPU",
  "colab": {
   "gpuType": "A100",
   "machine_shape": "hm",
   "provenance": [],
   "include_colab_link": true
  },
  "kernelspec": {
   "display_name": "Python 3",
   "name": "python3"
  },
  "language_info": {
   "name": "python"
  },
  "widgets": {
   "application/vnd.jupyter.widget-state+json": {
    "2895e3301b224ed3b7775c0796f71e10": {
     "model_module": "@jupyter-widgets/controls",
     "model_name": "HBoxModel",
     "model_module_version": "1.5.0",
     "state": {
      "_dom_classes": [],
      "_model_module": "@jupyter-widgets/controls",
      "_model_module_version": "1.5.0",
      "_model_name": "HBoxModel",
      "_view_count": null,
      "_view_module": "@jupyter-widgets/controls",
      "_view_module_version": "1.5.0",
      "_view_name": "HBoxView",
      "box_style": "",
      "children": [
       "IPY_MODEL_7e02a3a02261452f8cf979ec5a2d6153",
       "IPY_MODEL_8cba91655fd046c682796808c35e2727",
       "IPY_MODEL_16936e5a9e47436799e6788b73df8ce1"
      ],
      "layout": "IPY_MODEL_9872f6d7beb341309d4f92288053c04f"
     }
    },
    "7e02a3a02261452f8cf979ec5a2d6153": {
     "model_module": "@jupyter-widgets/controls",
     "model_name": "HTMLModel",
     "model_module_version": "1.5.0",
     "state": {
      "_dom_classes": [],
      "_model_module": "@jupyter-widgets/controls",
      "_model_module_version": "1.5.0",
      "_model_name": "HTMLModel",
      "_view_count": null,
      "_view_module": "@jupyter-widgets/controls",
      "_view_module_version": "1.5.0",
      "_view_name": "HTMLView",
      "description": "",
      "description_tooltip": null,
      "layout": "IPY_MODEL_645c774fcf0e4aeaae00f0f7c1d841ae",
      "placeholder": "​",
      "style": "IPY_MODEL_26ce2c4f04cd47188b5fdccaf6534483",
      "value": "Loading checkpoint shards: 100%"
     }
    },
    "8cba91655fd046c682796808c35e2727": {
     "model_module": "@jupyter-widgets/controls",
     "model_name": "FloatProgressModel",
     "model_module_version": "1.5.0",
     "state": {
      "_dom_classes": [],
      "_model_module": "@jupyter-widgets/controls",
      "_model_module_version": "1.5.0",
      "_model_name": "FloatProgressModel",
      "_view_count": null,
      "_view_module": "@jupyter-widgets/controls",
      "_view_module_version": "1.5.0",
      "_view_name": "ProgressView",
      "bar_style": "success",
      "description": "",
      "description_tooltip": null,
      "layout": "IPY_MODEL_60a0daba777344f7889324dba397ccc7",
      "max": 4,
      "min": 0,
      "orientation": "horizontal",
      "style": "IPY_MODEL_a6b3c3a802ba44e3990ccad9355719b9",
      "value": 4
     }
    },
    "16936e5a9e47436799e6788b73df8ce1": {
     "model_module": "@jupyter-widgets/controls",
     "model_name": "HTMLModel",
     "model_module_version": "1.5.0",
     "state": {
      "_dom_classes": [],
      "_model_module": "@jupyter-widgets/controls",
      "_model_module_version": "1.5.0",
      "_model_name": "HTMLModel",
      "_view_count": null,
      "_view_module": "@jupyter-widgets/controls",
      "_view_module_version": "1.5.0",
      "_view_name": "HTMLView",
      "description": "",
      "description_tooltip": null,
      "layout": "IPY_MODEL_580f3b00b2094b9c941dbd1901bd76e3",
      "placeholder": "​",
      "style": "IPY_MODEL_8f75cf0eb7794a6f95c77237ead8e142",
      "value": " 4/4 [00:11&lt;00:00,  2.58s/it]"
     }
    },
    "9872f6d7beb341309d4f92288053c04f": {
     "model_module": "@jupyter-widgets/base",
     "model_name": "LayoutModel",
     "model_module_version": "1.2.0",
     "state": {
      "_model_module": "@jupyter-widgets/base",
      "_model_module_version": "1.2.0",
      "_model_name": "LayoutModel",
      "_view_count": null,
      "_view_module": "@jupyter-widgets/base",
      "_view_module_version": "1.2.0",
      "_view_name": "LayoutView",
      "align_content": null,
      "align_items": null,
      "align_self": null,
      "border": null,
      "bottom": null,
      "display": null,
      "flex": null,
      "flex_flow": null,
      "grid_area": null,
      "grid_auto_columns": null,
      "grid_auto_flow": null,
      "grid_auto_rows": null,
      "grid_column": null,
      "grid_gap": null,
      "grid_row": null,
      "grid_template_areas": null,
      "grid_template_columns": null,
      "grid_template_rows": null,
      "height": null,
      "justify_content": null,
      "justify_items": null,
      "left": null,
      "margin": null,
      "max_height": null,
      "max_width": null,
      "min_height": null,
      "min_width": null,
      "object_fit": null,
      "object_position": null,
      "order": null,
      "overflow": null,
      "overflow_x": null,
      "overflow_y": null,
      "padding": null,
      "right": null,
      "top": null,
      "visibility": null,
      "width": null
     }
    },
    "645c774fcf0e4aeaae00f0f7c1d841ae": {
     "model_module": "@jupyter-widgets/base",
     "model_name": "LayoutModel",
     "model_module_version": "1.2.0",
     "state": {
      "_model_module": "@jupyter-widgets/base",
      "_model_module_version": "1.2.0",
      "_model_name": "LayoutModel",
      "_view_count": null,
      "_view_module": "@jupyter-widgets/base",
      "_view_module_version": "1.2.0",
      "_view_name": "LayoutView",
      "align_content": null,
      "align_items": null,
      "align_self": null,
      "border": null,
      "bottom": null,
      "display": null,
      "flex": null,
      "flex_flow": null,
      "grid_area": null,
      "grid_auto_columns": null,
      "grid_auto_flow": null,
      "grid_auto_rows": null,
      "grid_column": null,
      "grid_gap": null,
      "grid_row": null,
      "grid_template_areas": null,
      "grid_template_columns": null,
      "grid_template_rows": null,
      "height": null,
      "justify_content": null,
      "justify_items": null,
      "left": null,
      "margin": null,
      "max_height": null,
      "max_width": null,
      "min_height": null,
      "min_width": null,
      "object_fit": null,
      "object_position": null,
      "order": null,
      "overflow": null,
      "overflow_x": null,
      "overflow_y": null,
      "padding": null,
      "right": null,
      "top": null,
      "visibility": null,
      "width": null
     }
    },
    "26ce2c4f04cd47188b5fdccaf6534483": {
     "model_module": "@jupyter-widgets/controls",
     "model_name": "DescriptionStyleModel",
     "model_module_version": "1.5.0",
     "state": {
      "_model_module": "@jupyter-widgets/controls",
      "_model_module_version": "1.5.0",
      "_model_name": "DescriptionStyleModel",
      "_view_count": null,
      "_view_module": "@jupyter-widgets/base",
      "_view_module_version": "1.2.0",
      "_view_name": "StyleView",
      "description_width": ""
     }
    },
    "60a0daba777344f7889324dba397ccc7": {
     "model_module": "@jupyter-widgets/base",
     "model_name": "LayoutModel",
     "model_module_version": "1.2.0",
     "state": {
      "_model_module": "@jupyter-widgets/base",
      "_model_module_version": "1.2.0",
      "_model_name": "LayoutModel",
      "_view_count": null,
      "_view_module": "@jupyter-widgets/base",
      "_view_module_version": "1.2.0",
      "_view_name": "LayoutView",
      "align_content": null,
      "align_items": null,
      "align_self": null,
      "border": null,
      "bottom": null,
      "display": null,
      "flex": null,
      "flex_flow": null,
      "grid_area": null,
      "grid_auto_columns": null,
      "grid_auto_flow": null,
      "grid_auto_rows": null,
      "grid_column": null,
      "grid_gap": null,
      "grid_row": null,
      "grid_template_areas": null,
      "grid_template_columns": null,
      "grid_template_rows": null,
      "height": null,
      "justify_content": null,
      "justify_items": null,
      "left": null,
      "margin": null,
      "max_height": null,
      "max_width": null,
      "min_height": null,
      "min_width": null,
      "object_fit": null,
      "object_position": null,
      "order": null,
      "overflow": null,
      "overflow_x": null,
      "overflow_y": null,
      "padding": null,
      "right": null,
      "top": null,
      "visibility": null,
      "width": null
     }
    },
    "a6b3c3a802ba44e3990ccad9355719b9": {
     "model_module": "@jupyter-widgets/controls",
     "model_name": "ProgressStyleModel",
     "model_module_version": "1.5.0",
     "state": {
      "_model_module": "@jupyter-widgets/controls",
      "_model_module_version": "1.5.0",
      "_model_name": "ProgressStyleModel",
      "_view_count": null,
      "_view_module": "@jupyter-widgets/base",
      "_view_module_version": "1.2.0",
      "_view_name": "StyleView",
      "bar_color": null,
      "description_width": ""
     }
    },
    "580f3b00b2094b9c941dbd1901bd76e3": {
     "model_module": "@jupyter-widgets/base",
     "model_name": "LayoutModel",
     "model_module_version": "1.2.0",
     "state": {
      "_model_module": "@jupyter-widgets/base",
      "_model_module_version": "1.2.0",
      "_model_name": "LayoutModel",
      "_view_count": null,
      "_view_module": "@jupyter-widgets/base",
      "_view_module_version": "1.2.0",
      "_view_name": "LayoutView",
      "align_content": null,
      "align_items": null,
      "align_self": null,
      "border": null,
      "bottom": null,
      "display": null,
      "flex": null,
      "flex_flow": null,
      "grid_area": null,
      "grid_auto_columns": null,
      "grid_auto_flow": null,
      "grid_auto_rows": null,
      "grid_column": null,
      "grid_gap": null,
      "grid_row": null,
      "grid_template_areas": null,
      "grid_template_columns": null,
      "grid_template_rows": null,
      "height": null,
      "justify_content": null,
      "justify_items": null,
      "left": null,
      "margin": null,
      "max_height": null,
      "max_width": null,
      "min_height": null,
      "min_width": null,
      "object_fit": null,
      "object_position": null,
      "order": null,
      "overflow": null,
      "overflow_x": null,
      "overflow_y": null,
      "padding": null,
      "right": null,
      "top": null,
      "visibility": null,
      "width": null
     }
    },
    "8f75cf0eb7794a6f95c77237ead8e142": {
     "model_module": "@jupyter-widgets/controls",
     "model_name": "DescriptionStyleModel",
     "model_module_version": "1.5.0",
     "state": {
      "_model_module": "@jupyter-widgets/controls",
      "_model_module_version": "1.5.0",
      "_model_name": "DescriptionStyleModel",
      "_view_count": null,
      "_view_module": "@jupyter-widgets/base",
      "_view_module_version": "1.2.0",
      "_view_name": "StyleView",
      "description_width": ""
     }
    }
   }
  }
 },
 "nbformat": 4,
 "nbformat_minor": 0
}
