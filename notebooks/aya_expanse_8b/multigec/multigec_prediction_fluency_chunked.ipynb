{
 "cells": [
  {
   "cell_type": "markdown",
   "metadata": {
    "id": "view-in-github",
    "colab_type": "text"
   },
   "source": [
    "<a href=\"https://colab.research.google.com/github/Reennon/multigec-models/blob/main/notebooks/aya_expanse_8b/multigec/multigec_prediction_chunked.ipynb\" target=\"_parent\"><img src=\"https://colab.research.google.com/assets/colab-badge.svg\" alt=\"Open In Colab\"/></a>"
   ]
  },
  {
   "cell_type": "code",
   "execution_count": null,
   "metadata": {
    "id": "UsXRO225aQG5"
   },
   "outputs": [],
   "source": [
    "import os\n",
    "\n",
    "from google.colab import userdata\n",
    "\n",
    "os.environ[\"GIT_TOKEN\"] = userdata.get('git_token')"
   ]
  },
  {
   "cell_type": "code",
   "source": [
    "from google.colab import drive\n",
    "drive.mount('/content/drive')"
   ],
   "metadata": {
    "id": "aduMiBeD946F"
   },
   "execution_count": null,
   "outputs": []
  },
  {
   "cell_type": "code",
   "execution_count": null,
   "metadata": {
    "id": "J_IRXNxZaF4Y"
   },
   "outputs": [],
   "source": [
    "!git clone https://$GIT_TOKEN@github.com/Reennon/multigec-models.git"
   ]
  },
  {
   "cell_type": "code",
   "execution_count": null,
   "metadata": {
    "id": "u7b_-L4YdQdS"
   },
   "outputs": [],
   "source": [
    "%cd multigec-models"
   ]
  },
  {
   "cell_type": "code",
   "execution_count": null,
   "metadata": {
    "id": "ak_WBUcgdWYE"
   },
   "outputs": [],
   "source": [
    "!git pull"
   ]
  },
  {
   "cell_type": "code",
   "execution_count": null,
   "metadata": {
    "id": "M0zzclvTdlkE",
    "collapsed": true
   },
   "outputs": [],
   "source": [
    "!pip install -U bitsandbytes peft accelerate datasets sentencepiece wandb python-dotenv wtpsplit -q\n",
    "!pip install flash-attn --no-build-isolation -q\n",
    "!pip install wtpsplit==2.1.1 -q\n",
    "!pip install syntok==1.4.4 -q\n",
    "!pip install omegaconf -q\n",
    "!pip install wandb -q\n",
    "!pip install --upgrade transformers trl -q\n",
    "!pip install pandas numpy -q"
   ]
  },
  {
   "cell_type": "code",
   "execution_count": null,
   "metadata": {
    "id": "lBGK2EtZO6tR"
   },
   "outputs": [],
   "source": [
    "from google.colab import drive\n",
    "drive.mount('/content/drive')"
   ]
  },
  {
   "cell_type": "code",
   "execution_count": null,
   "metadata": {
    "id": "xLa_z_uleW1O"
   },
   "outputs": [],
   "source": [
    "import os\n",
    "\n",
    "from omegaconf import OmegaConf\n",
    "from transformers import AutoModelForCausalLM, AutoTokenizer, AutoConfig\n",
    "from huggingface_hub import login\n",
    "from src.utils.multigec import sentences, LANG_TO_CODE, LANG_CODE_TO_TOKEN\n",
    "from langchain_core.prompts import PromptTemplate\n",
    "\n",
    "from src.instruction_templates import multigec_prompts\n",
    "\n",
    "import torch\n",
    "import wandb\n",
    "\n",
    "from transformers import BitsAndBytesConfig\n",
    "from tqdm import tqdm\n",
    "from trl.trainer import ConstantLengthDataset\n",
    "import pandas as pd\n",
    "from datasets import Dataset\n",
    "from transformers.trainer_callback import EarlyStoppingCallback\n",
    "\n",
    "from transformers import TrainingArguments\n",
    "from trl import SFTConfig, SFTTrainer\n",
    "from peft import LoraConfig\n",
    "\n",
    "from peft import PeftModel, PeftModelForCausalLM\n",
    "\n",
    "tqdm.pandas()"
   ]
  },
  {
   "cell_type": "code",
   "execution_count": null,
   "metadata": {
    "id": "ZrXeF2PMTA9C"
   },
   "outputs": [],
   "source": [
    "parameters = OmegaConf.load(\"./params/aya_expanse_8b.yaml\")"
   ]
  },
  {
   "cell_type": "code",
   "execution_count": null,
   "metadata": {
    "id": "2orS0nY-j3QY"
   },
   "outputs": [],
   "source": [
    "track     = \"fluency\"\n",
    "fine_tuned_model_name = f\"aya-expanse-8b-multigec-{track}\"\n",
    "\n",
    "hf_key   = userdata.get(\"hf_key\")\n",
    "secret_wandb = userdata.get(\"wandb_key\")\n",
    "\n",
    "in_path  = f\"/content/drive/MyDrive/multigec/datasets/multigec_{track}.csv\"\n",
    "out_path = f\"/content/drive/MyDrive/multigec/preds/multigec_test_{track}.csv\"\n",
    "temp_out_path = f\"/content/drive/MyDrive/multigec/preds/temp_multigec_test_{track}_chunked.csv\"\n",
    "out_model_dir = f\"/content/drive/MyDrive/multigec/models/{fine_tuned_model_name}\"\n",
    "QUANTIZE_4BIT = True\n",
    "device   = \"cuda:0\""
   ]
  },
  {
   "cell_type": "code",
   "execution_count": null,
   "metadata": {
    "id": "5ATeEv_etKR1"
   },
   "outputs": [],
   "source": [
    "login(hf_key)"
   ]
  },
  {
   "cell_type": "code",
   "execution_count": null,
   "metadata": {
    "id": "oB4Vv3zFyHLd"
   },
   "outputs": [],
   "source": [
    "!env TORCH_USE_CUDA_DSA=1 -q"
   ]
  },
  {
   "cell_type": "code",
   "execution_count": null,
   "metadata": {
    "id": "npCYpk8StL1L"
   },
   "outputs": [],
   "source": [
    "base_model = \"CohereForAI/aya-expanse-8b\"\n",
    "saved_checkpoint = out_model_dir + \"/checkpoint-400\"\n",
    "\n",
    "quantization_config = None\n",
    "if QUANTIZE_4BIT:\n",
    "  quantization_config = BitsAndBytesConfig(\n",
    "      load_in_4bit=True,\n",
    "      bnb_4bit_quant_type=\"nf4\",\n",
    "      bnb_4bit_use_double_quant=True,\n",
    "      bnb_4bit_compute_dtype=torch.bfloat16,\n",
    "  )\n",
    "tokenizer = AutoTokenizer.from_pretrained(saved_checkpoint)\n",
    "config = AutoConfig.from_pretrained(base_model)\n",
    "base_model_instance = AutoModelForCausalLM.from_pretrained(\n",
    "    base_model,\n",
    "    config=config,\n",
    "    quantization_config=quantization_config,\n",
    "    torch_dtype=torch.bfloat16,\n",
    "    device_map=device,\n",
    "    attn_implementation=\"flash_attention_2\",\n",
    ")\n",
    "base_model_instance.resize_token_embeddings(len(tokenizer))\n",
    "model = PeftModelForCausalLM.from_pretrained(\n",
    "    base_model_instance,\n",
    "    saved_checkpoint,\n",
    "    torch_dtype=torch.bfloat16,\n",
    "    device_map=device,\n",
    "    ignore_mismatched_sizes=True\n",
    ")\n"
   ]
  },
  {
   "cell_type": "code",
   "execution_count": null,
   "metadata": {
    "id": "tc_-2FtptNPf"
   },
   "outputs": [],
   "source": [
    "multigec_df = pd.read_csv(in_path)\n",
    "train_df = multigec_df.loc[multigec_df.loc[:, \"split\"] == \"train\"]\n",
    "val_df = multigec_df.loc[multigec_df.loc[:, \"split\"] == \"val\"]\n",
    "test_df = multigec_df.loc[multigec_df.loc[:, \"split\"] == \"test\"]"
   ]
  },
  {
   "cell_type": "code",
   "source": [
    "def formatting_prompts_func(example):\n",
    "    language_code = LANG_TO_CODE[example[\"language\"]]\n",
    "    language_token = LANG_CODE_TO_TOKEN[language_code]\n",
    "\n",
    "    user_input = example['feature']\n",
    "    prompt_template = multigec_prompts[example[\"language\"]].prompt_template\n",
    "    instruction = prompt_template.format(original_text=user_input)\n",
    "\n",
    "    text = f\"<|START_OF_TURN_TOKEN|><|USER_TOKEN|>{language_token}{instruction}<|END_OF_TURN_TOKEN|><|START_OF_TURN_TOKEN|><|CHATBOT_TOKEN|>\"\n",
    "\n",
    "    return text"
   ],
   "metadata": {
    "id": "vBTPiAb24tQP"
   },
   "execution_count": null,
   "outputs": []
  },
  {
   "cell_type": "code",
   "source": [
    "import os\n",
    "import pandas as pd\n",
    "import torch\n",
    "from torch.utils.data import DataLoader\n",
    "from tqdm import tqdm\n",
    "from wtpsplit import SaT\n",
    "\n",
    "# ------------------------------------------------------------------------------\n",
    "# ASSUMPTIONS:\n",
    "# 1) You already have:\n",
    "#       model         -> Your loaded model\n",
    "#       tokenizer     -> Your tokenizer\n",
    "#       test_df       -> A DataFrame with at least columns [\"feature\", \"target\"]\n",
    "#       out_path      -> Path to save final CSV\n",
    "#       temp_out_path -> A \"partial progress\" CSV path\n",
    "# 2) You want to process only rows where \"target\" is NaN, splitting the \"feature\"\n",
    "#    if it exceeds a certain max_tokens threshold, then recombining outputs.\n",
    "# ------------------------------------------------------------------------------\n",
    "\n",
    "# Instantiate the sentence splitter (wtpsplit)\n",
    "sat = SaT(\"sat-3l\")\n",
    "sat.half().to(\"cuda\")\n",
    "\n",
    "# Adjustable parameters\n",
    "max_new_tokens = 600\n",
    "batch_size = 100\n",
    "save_each = 100\n",
    "max_tokens = 600  # maximum tokens allowed per chunk prompt\n",
    "\n",
    "# ----------------------------------------------------------------------\n",
    "# Helper function to chunk large texts using newline -> sentence -> word.\n",
    "# ----------------------------------------------------------------------\n",
    "def chunk_large_texts(df, tokenizer, text_col=\"feature\", max_tokens=2048):\n",
    "    \"\"\"\n",
    "    Splits texts in 'df[text_col]' if they exceed 'max_tokens'. Returns a new DF\n",
    "    with multiple rows (chunks) per original row. Preserves original row index in 'index'\n",
    "    and adds a 'chunk_id'.\n",
    "    \"\"\"\n",
    "    chunked_rows = []\n",
    "\n",
    "    for i, row in df.iterrows():\n",
    "        original_df_index = row[\"index\"]  # the original test_df index\n",
    "        full_text = row[text_col]\n",
    "\n",
    "        # Quickly check if it needs chunking\n",
    "        initial_ids = tokenizer(full_text, add_special_tokens=False).input_ids\n",
    "        if len(initial_ids) < max_tokens:\n",
    "            # No chunking needed\n",
    "            new_row = row.copy()\n",
    "            new_row[\"chunk_id\"] = 0\n",
    "            chunked_rows.append(new_row)\n",
    "            continue\n",
    "\n",
    "        # Otherwise, we chunk\n",
    "        splitted_texts = full_text.split(\"\\n\")\n",
    "\n",
    "        all_chunks = []\n",
    "        for s in splitted_texts:\n",
    "            source_inputs = tokenizer(s, add_special_tokens=False).input_ids\n",
    "            if len(source_inputs) < max_tokens:\n",
    "                all_chunks.append(s)\n",
    "            else:\n",
    "                # Split by sentences using SaT\n",
    "                sent_splits = sat.split(s)\n",
    "                curr_input = \"\"\n",
    "\n",
    "                for sent in sent_splits:\n",
    "                    candidate = (curr_input + \" \" + sent).strip()\n",
    "                    curr_tokens = tokenizer(candidate, add_special_tokens=False).input_ids\n",
    "\n",
    "                    if len(curr_tokens) < max_tokens:\n",
    "                        curr_input = candidate\n",
    "                    else:\n",
    "                        # Store what we had so far\n",
    "                        if curr_input:\n",
    "                            all_chunks.append(curr_input)\n",
    "\n",
    "                        # Now chunk 'sent' by spaces if it's still too big\n",
    "                        words = sent.split()\n",
    "                        sub_chunk = []\n",
    "                        for w in words:\n",
    "                            test_sub = \" \".join(sub_chunk + [w])\n",
    "                            test_sub_ids = tokenizer(test_sub, add_special_tokens=False).input_ids\n",
    "                            if len(test_sub_ids) < max_tokens:\n",
    "                                sub_chunk.append(w)\n",
    "                            else:\n",
    "                                # store the chunk we had\n",
    "                                if sub_chunk:\n",
    "                                    all_chunks.append(\" \".join(sub_chunk))\n",
    "                                # start new chunk\n",
    "                                sub_chunk = [w]\n",
    "\n",
    "                        # flush remainder\n",
    "                        if sub_chunk:\n",
    "                            all_chunks.append(\" \".join(sub_chunk))\n",
    "\n",
    "                        # reset curr_input\n",
    "                        curr_input = \"\"\n",
    "\n",
    "                # leftover in curr_input\n",
    "                if curr_input:\n",
    "                    all_chunks.append(curr_input)\n",
    "\n",
    "        # Now create rows for each chunk\n",
    "        for chunk_i, chunk_text in enumerate(all_chunks):\n",
    "            new_row = row.copy()\n",
    "            new_row[text_col] = chunk_text\n",
    "            new_row[\"chunk_id\"] = chunk_i\n",
    "            chunked_rows.append(new_row)\n",
    "\n",
    "    chunked_df = pd.DataFrame(chunked_rows).reset_index(drop=True)\n",
    "    return chunked_df\n",
    "\n",
    "# ------------------------------------------------------------------------------\n",
    "# Define your prompt-formatting function here:\n",
    "# ------------------------------------------------------------------------------\n",
    "def formatting_prompts_func(ex):\n",
    "    \"\"\"\n",
    "    Given a row (dictionary) from expanded_df,\n",
    "    create the prompt text that the model will see.\n",
    "    Adjust to your own style.\n",
    "    \"\"\"\n",
    "    return f\"Some system prompt:\\n\\n{ex['feature']}\"\n",
    "\n",
    "# ------------------------------------------------------------------------------\n",
    "# Try to resume from partial expansions (temp_out_path) if available\n",
    "# ------------------------------------------------------------------------------\n",
    "if os.path.exists(temp_out_path):\n",
    "    print(f\"Resuming from partial expansions at {temp_out_path} ...\")\n",
    "    expanded_df = pd.read_csv(temp_out_path)\n",
    "else:\n",
    "    print(\"No partial file found. Splitting & creating chunk-level data ...\")\n",
    "    # Only split for rows that have no final 'target' yet\n",
    "    to_process_df = test_df[test_df[\"target\"].isna()].reset_index()  # keeps old index in \"index\"\n",
    "\n",
    "    expanded_df = chunk_large_texts(\n",
    "        df=to_process_df,\n",
    "        tokenizer=tokenizer,\n",
    "        text_col=\"feature\",\n",
    "        max_tokens=max_tokens\n",
    "    )\n",
    "    # Initialize empty 'target' column if not present\n",
    "    if \"target\" not in expanded_df.columns:\n",
    "        expanded_df[\"target\"] = None\n",
    "\n",
    "# ------------------------------------------------------------------------------\n",
    "# 4) Create DataLoader on chunk-rows that still need answers\n",
    "# ------------------------------------------------------------------------------\n",
    "def collate_fn(examples):\n",
    "    indices = [ex[\"index\"] for ex in examples]   # original test_df row index\n",
    "    chunk_ids = [ex[\"chunk_id\"] for ex in examples]\n",
    "\n",
    "    texts = [formatting_prompts_func(ex) for ex in examples]\n",
    "    tokenized = tokenizer(\n",
    "        texts,\n",
    "        padding=True,\n",
    "        truncation=True,\n",
    "        return_tensors=\"pt\"\n",
    "    )\n",
    "    tokenized[\"indices\"] = indices\n",
    "    tokenized[\"chunk_ids\"] = chunk_ids\n",
    "    return tokenized\n",
    "\n",
    "# We only generate for chunk rows whose 'target' is still NaN (unanswered).\n",
    "expanded_df_for_gen = expanded_df[expanded_df[\"target\"].isna()]\n",
    "\n",
    "if len(expanded_df_for_gen) == 0:\n",
    "    print(\"No unanswered chunks found; skipping generation.\")\n",
    "else:\n",
    "    dataloader = DataLoader(\n",
    "        expanded_df_for_gen.to_dict(orient=\"records\"),\n",
    "        batch_size=batch_size,\n",
    "        collate_fn=collate_fn\n",
    "    )\n",
    "\n",
    "    processed_rows = 0\n",
    "    for batch in tqdm(dataloader, desc=\"Generating\"):\n",
    "        input_ids = batch[\"input_ids\"].to(model.device)\n",
    "        attention_mask = batch.get(\"attention_mask\", None)\n",
    "        if attention_mask is not None:\n",
    "            attention_mask = attention_mask.to(model.device)\n",
    "\n",
    "        prompt_padded_len = input_ids.shape[1]\n",
    "\n",
    "        # Generate\n",
    "        gen_tokens = model.generate(\n",
    "            input_ids,\n",
    "            attention_mask=attention_mask,\n",
    "            temperature=parameters.baseline.temperature,\n",
    "            top_p=parameters.baseline.top_p,\n",
    "            top_k=parameters.baseline.top_k,\n",
    "            max_new_tokens=max_new_tokens,\n",
    "            do_sample=True,\n",
    "            use_cache=True,\n",
    "        )\n",
    "\n",
    "        # Strip off the prompt portion from each\n",
    "        gen_tokens = [gt[prompt_padded_len:] for gt in gen_tokens]\n",
    "\n",
    "        # Decode\n",
    "        corrections = tokenizer.batch_decode(gen_tokens, skip_special_tokens=True)\n",
    "\n",
    "        # Save these chunk-level outputs into expanded_df\n",
    "        for idx, cid, corr in zip(batch[\"indices\"], batch[\"chunk_ids\"], corrections):\n",
    "            mask = (expanded_df[\"index\"] == idx) & (expanded_df[\"chunk_id\"] == cid)\n",
    "            expanded_df.loc[mask, \"target\"] = corr\n",
    "            processed_rows += 1\n",
    "\n",
    "            # Partial save for safety\n",
    "            if processed_rows % save_each == 0:\n",
    "                expanded_df.to_csv(temp_out_path, index=False)\n",
    "                print(f\"[Checkpoint] Saved expanded_df progress ({processed_rows} chunks).\")\n",
    "\n",
    "    # Final save of chunk-level expansions\n",
    "    expanded_df.to_csv(temp_out_path, index=False)\n",
    "    print(f\"Chunk-level expansions saved to {temp_out_path}.\")\n",
    "\n",
    "# ------------------------------------------------------------------------------\n",
    "# 5) Recombine chunk outputs into test_df (one output per original row)\n",
    "# ------------------------------------------------------------------------------\n",
    "grouped = expanded_df.groupby(\"index\")[\"target\"].apply(list).reset_index(name=\"chunks\")\n",
    "for _, row in grouped.iterrows():\n",
    "    orig_idx = row[\"index\"]      # the real test_df index\n",
    "    chunk_outputs = row[\"chunks\"]\n",
    "    combined_output = \"\\n\".join(str(x) for x in chunk_outputs if pd.notnull(x))\n",
    "    test_df.loc[orig_idx, \"target\"] = combined_output\n",
    "\n",
    "# Final save of test_df\n",
    "test_df.to_csv(out_path, index=False)\n",
    "print(\"Final save complete!\")\n"
   ],
   "metadata": {
    "id": "TJN5Jz1b-w6m"
   },
   "execution_count": null,
   "outputs": []
  },
  {
   "cell_type": "code",
   "execution_count": null,
   "outputs": [],
   "source": [
    "from google.colab import runtime\n",
    "runtime.unassign()"
   ],
   "metadata": {
    "id": "mMXZRSCW7dxk"
   }
  }
 ],
 "metadata": {
  "accelerator": "GPU",
  "colab": {
   "gpuType": "A100",
   "machine_shape": "hm",
   "provenance": [],
   "include_colab_link": true
  },
  "kernelspec": {
   "name": "python3",
   "language": "python",
   "display_name": "Python 3 (ipykernel)"
  },
  "language_info": {
   "name": "python"
  }
 },
 "nbformat": 4,
 "nbformat_minor": 0
}
