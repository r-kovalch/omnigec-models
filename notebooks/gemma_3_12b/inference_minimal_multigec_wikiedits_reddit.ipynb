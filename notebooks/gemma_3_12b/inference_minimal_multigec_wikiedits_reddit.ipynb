{
 "cells": [
  {
   "cell_type": "markdown",
   "metadata": {
    "id": "view-in-github",
    "colab_type": "text"
   },
   "source": [
    "<a href=\"https://colab.research.google.com/github/Reennon/multigec-models/blob/main/notebooks/gemma_3_12b/multigec/omnigec_prediction_minimal.ipynb\" target=\"_parent\"><img src=\"https://colab.research.google.com/assets/colab-badge.svg\" alt=\"Open In Colab\"/></a>"
   ]
  },
  {
   "cell_type": "code",
   "execution_count": null,
   "metadata": {
    "id": "UsXRO225aQG5"
   },
   "outputs": [],
   "source": [
    "import os\n",
    "\n",
    "from google.colab import userdata\n",
    "\n",
    "os.environ[\"GIT_TOKEN\"] = userdata.get('git_token')"
   ]
  },
  {
   "cell_type": "code",
   "source": [
    "from google.colab import drive\n",
    "drive.mount('/gdrive')"
   ],
   "metadata": {
    "id": "aduMiBeD946F"
   },
   "execution_count": null,
   "outputs": []
  },
  {
   "cell_type": "code",
   "execution_count": null,
   "metadata": {
    "id": "J_IRXNxZaF4Y"
   },
   "outputs": [],
   "source": [
    "!git clone https://$GIT_TOKEN@github.com/Reennon/omnigec-models.git"
   ]
  },
  {
   "cell_type": "code",
   "execution_count": null,
   "metadata": {
    "id": "u7b_-L4YdQdS"
   },
   "outputs": [],
   "source": [
    "%cd omnigec-models"
   ]
  },
  {
   "cell_type": "code",
   "execution_count": null,
   "metadata": {
    "id": "ak_WBUcgdWYE"
   },
   "outputs": [],
   "source": [
    "!git pull"
   ]
  },
  {
   "cell_type": "code",
   "execution_count": null,
   "metadata": {
    "id": "M0zzclvTdlkE",
    "collapsed": true
   },
   "outputs": [],
   "source": [
    "!pip install -U bitsandbytes peft accelerate datasets sentencepiece wandb python-dotenv wtpsplit -q\n",
    "!pip install flash-attn --no-build-isolation -q\n",
    "!pip install wtpsplit==2.1.1 -q\n",
    "!pip install syntok==1.4.4 -q\n",
    "!pip install omegaconf -q\n",
    "!pip install wandb -q\n",
    "!pip install --upgrade git+https://github.com/huggingface/transformers.git -q\n",
    "!pip install --upgrade trl -q\n",
    "!pip install pandas numpy -q"
   ]
  },
  {
   "cell_type": "code",
   "execution_count": null,
   "metadata": {
    "id": "xLa_z_uleW1O"
   },
   "outputs": [],
   "source": [
    "import os\n",
    "\n",
    "from omegaconf import OmegaConf\n",
    "from transformers import AutoModelForCausalLM, AutoTokenizer, AutoConfig\n",
    "from huggingface_hub import login\n",
    "from src.utils.multigec import sentences, LANG_TO_CODE, LANG_CODE_TO_TOKEN\n",
    "from src.utils.gemma_utils import inference_formatting_prompts_func as formatting_prompts_func\n",
    "from langchain_core.prompts import PromptTemplate\n",
    "\n",
    "from src.instruction_templates import multigec_prompts\n",
    "\n",
    "import torch\n",
    "import wandb\n",
    "\n",
    "from transformers import BitsAndBytesConfig\n",
    "from tqdm import tqdm\n",
    "from trl.trainer import ConstantLengthDataset\n",
    "import pandas as pd\n",
    "from datasets import Dataset\n",
    "from transformers.trainer_callback import EarlyStoppingCallback\n",
    "\n",
    "from transformers import TrainingArguments\n",
    "from trl import SFTConfig, SFTTrainer\n",
    "from peft import LoraConfig, PeftModelForCausalLM\n",
    "\n",
    "tqdm.pandas()"
   ]
  },
  {
   "cell_type": "code",
   "execution_count": null,
   "metadata": {
    "id": "ZrXeF2PMTA9C"
   },
   "outputs": [],
   "source": [
    "parameters = OmegaConf.load(\"./params/gemma_3_12b.yaml\")"
   ]
  },
  {
   "cell_type": "code",
   "execution_count": null,
   "metadata": {
    "id": "2orS0nY-j3QY"
   },
   "outputs": [],
   "source": [
    "track                   = \"minimal\"\n",
    "model_name              = \"gemma-3-12b-it\"\n",
    "fine_tuned_model_name   = f\"gemma-3-12b-it-multigec-wikiedits-reddit-{track}\"\n",
    "experiment_name         = f\"multigec-{track}-{model_name}\"\n",
    "\n",
    "hf_key                  = userdata.get(\"hf_key\")\n",
    "secret_wandb            = userdata.get(\"wandb_key\")\n",
    "\n",
    "in_path                 = f\"/gdrive/MyDrive/omnigec/datasets/multigec_wikiedits_reddit_{track}.csv\"\n",
    "out_path                = f\"/gdrive/MyDrive/omnigec/preds/multigec_wikiedits_reddit_test_{track}.csv\"\n",
    "out_model_dir           = f\"/gdrive/MyDrive/omnigec/models/{fine_tuned_model_name}\"\n",
    "\n",
    "QUANTIZE_4BIT           = True\n",
    "device                  = \"cuda:0\""
   ]
  },
  {
   "cell_type": "code",
   "execution_count": null,
   "metadata": {
    "id": "5ATeEv_etKR1"
   },
   "outputs": [],
   "source": [
    "login(hf_key)"
   ]
  },
  {
   "cell_type": "code",
   "execution_count": null,
   "metadata": {
    "id": "oB4Vv3zFyHLd"
   },
   "outputs": [],
   "source": [
    "!env TORCH_USE_CUDA_DSA=1 -q"
   ]
  },
  {
   "cell_type": "code",
   "source": [
    "base_model = \"google/gemma-3-12b-it\"\n",
    "saved_checkpoint = out_model_dir + \"/checkpoint-1800\"\n",
    "\n",
    "quantization_config = None\n",
    "if QUANTIZE_4BIT:\n",
    "  quantization_config = BitsAndBytesConfig(\n",
    "      load_in_4bit=True,\n",
    "      bnb_4bit_quant_type=\"nf4\",\n",
    "      bnb_4bit_use_double_quant=True,\n",
    "      bnb_4bit_compute_dtype=torch.bfloat16,\n",
    "      bnb_4bit_quant_storage=torch.bfloat16,\n",
    "  )\n",
    "tokenizer = AutoTokenizer.from_pretrained(saved_checkpoint)\n",
    "config = AutoConfig.from_pretrained(base_model)\n",
    "config.text_config.use_cache = False\n",
    "base_model_instance = AutoModelForCausalLM.from_pretrained(\n",
    "    base_model,\n",
    "    config=config,\n",
    "    quantization_config=quantization_config,\n",
    "    torch_dtype=torch.bfloat16,\n",
    "    device_map=device,\n",
    "    attn_implementation=\"eager\",\n",
    ")\n",
    "base_model_instance.resize_token_embeddings(len(tokenizer))\n",
    "model = PeftModelForCausalLM.from_pretrained(\n",
    "    base_model_instance,\n",
    "    saved_checkpoint,\n",
    "    torch_dtype=torch.bfloat16,\n",
    "    device_map=device,\n",
    "    ignore_mismatched_sizes=True\n",
    ")\n"
   ],
   "metadata": {
    "id": "rsH6g6IGgmy1"
   },
   "execution_count": null,
   "outputs": []
  },
  {
   "cell_type": "code",
   "execution_count": null,
   "metadata": {
    "id": "tc_-2FtptNPf"
   },
   "outputs": [],
   "source": [
    "test_df = pd.read_csv(out_path)"
   ]
  },
  {
   "cell_type": "code",
   "source": [
    "from torch.utils.data import DataLoader\n",
    "from tqdm import tqdm\n",
    "\n",
    "max_new_tokens = 1600\n",
    "batch_size = 7\n",
    "save_each = 7\n",
    "\n",
    "# Assume test_df already exists and out_path is defined.\n",
    "# Filter rows that need processing (target is empty/NaN).\n",
    "to_process_df = test_df[test_df[\"target\"].isna()].reset_index()  # preserve original index in \"index\" column\n",
    "\n",
    "def collate_fn(examples):\n",
    "    indices = [ex[\"index\"] for ex in examples]\n",
    "    texts = [formatting_prompts_func(example) for example in examples]\n",
    "    tokenized = tokenizer(\n",
    "        texts,\n",
    "        padding=True,\n",
    "        truncation=True,\n",
    "        return_tensors=\"pt\"\n",
    "    )\n",
    "    tokenized[\"indices\"] = indices\n",
    "    return tokenized\n",
    "\n",
    "\n",
    "# Create DataLoader using only the rows that need processing.\n",
    "dataloader = DataLoader(\n",
    "    to_process_df.to_dict(orient=\"records\"),\n",
    "    batch_size=batch_size,\n",
    "    collate_fn=collate_fn\n",
    ")\n",
    "\n",
    "processed_rows = 0\n",
    "for batch in tqdm(dataloader):\n",
    "    input_ids = batch[\"input_ids\"].to(model.device)\n",
    "    attention_mask = batch.get(\"attention_mask\", None)\n",
    "    if attention_mask is not None:\n",
    "        attention_mask = attention_mask.to(model.device)\n",
    "    prompt_padded_len = len(input_ids[0])\n",
    "\n",
    "    gen_tokens = model.generate(\n",
    "        input_ids,\n",
    "        attention_mask=attention_mask,\n",
    "        temperature=parameters.baseline.temperature,\n",
    "        top_p=parameters.baseline.top_p,\n",
    "        top_k=parameters.baseline.top_k,\n",
    "        max_new_tokens=max_new_tokens,\n",
    "        do_sample=True,\n",
    "    )\n",
    "\n",
    "    # Remove the prompt tokens from the generated tokens\n",
    "    gen_tokens = [gt[prompt_padded_len:] for gt in gen_tokens]\n",
    "\n",
    "    # Decode generated tokens to text corrections\n",
    "    corrections = tokenizer.batch_decode(gen_tokens, skip_special_tokens=True)\n",
    "    corrections = [\"\".join(c) for c in corrections]\n",
    "\n",
    "    # Update the original DataFrame using the indices provided in the batch.\n",
    "    for idx, corr in zip(batch[\"indices\"], corrections):\n",
    "        test_df.loc[idx, \"target\"] = corr\n",
    "        processed_rows += 1\n",
    "\n",
    "        if processed_rows % save_each == 0:\n",
    "            test_df.to_csv(out_path, index=False)\n",
    "            print(f\"Saved progress after processing {processed_rows} rows.\")\n",
    "\n",
    "# Final save after processing all batches.\n",
    "test_df.to_csv(out_path, index=False)\n",
    "print(\"Final save complete!\")"
   ],
   "metadata": {
    "id": "TJN5Jz1b-w6m"
   },
   "execution_count": null,
   "outputs": []
  },
  {
   "cell_type": "code",
   "execution_count": null,
   "outputs": [],
   "source": [
    "from google.colab import runtime\n",
    "runtime.unassign()"
   ],
   "metadata": {
    "id": "shMkTieDUK_F"
   }
  }
 ],
 "metadata": {
  "accelerator": "GPU",
  "colab": {
   "gpuType": "A100",
   "machine_shape": "hm",
   "provenance": [],
   "include_colab_link": true
  },
  "kernelspec": {
   "display_name": "Python 3",
   "name": "python3"
  },
  "language_info": {
   "name": "python"
  }
 },
 "nbformat": 4,
 "nbformat_minor": 0
}
