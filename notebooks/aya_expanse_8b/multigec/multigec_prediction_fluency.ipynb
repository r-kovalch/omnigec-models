{
  "cells": [
    {
      "cell_type": "markdown",
      "metadata": {
        "id": "view-in-github",
        "colab_type": "text"
      },
      "source": [
        "<a href=\"https://colab.research.google.com/github/Reennon/multigec-models/blob/main/notebooks/aya_expanse_8b/multigec/multigec_prediction_fluency.ipynb\" target=\"_parent\"><img src=\"https://colab.research.google.com/assets/colab-badge.svg\" alt=\"Open In Colab\"/></a>"
      ]
    },
    {
      "cell_type": "code",
      "execution_count": 1,
      "metadata": {
        "id": "UsXRO225aQG5"
      },
      "outputs": [],
      "source": [
        "import os\n",
        "\n",
        "from google.colab import userdata\n",
        "\n",
        "os.environ[\"GIT_TOKEN\"] = userdata.get('git_token')"
      ]
    },
    {
      "cell_type": "code",
      "source": [
        "from google.colab import drive\n",
        "drive.mount('/content/drive')"
      ],
      "metadata": {
        "id": "aduMiBeD946F",
        "outputId": "82cfd852-1401-49d6-f4c8-790660bb7c64",
        "colab": {
          "base_uri": "https://localhost:8080/"
        }
      },
      "execution_count": 14,
      "outputs": [
        {
          "output_type": "stream",
          "name": "stdout",
          "text": [
            "Mounted at /content/drive\n"
          ]
        }
      ]
    },
    {
      "cell_type": "code",
      "execution_count": 3,
      "metadata": {
        "colab": {
          "base_uri": "https://localhost:8080/"
        },
        "id": "J_IRXNxZaF4Y",
        "outputId": "334da115-1272-4c4b-bd6d-3819baf4a800"
      },
      "outputs": [
        {
          "output_type": "stream",
          "name": "stdout",
          "text": [
            "fatal: destination path 'multigec-models' already exists and is not an empty directory.\n"
          ]
        }
      ],
      "source": [
        "!git clone https://$GIT_TOKEN@github.com/Reennon/multigec-models.git"
      ]
    },
    {
      "cell_type": "code",
      "execution_count": 4,
      "metadata": {
        "colab": {
          "base_uri": "https://localhost:8080/"
        },
        "id": "u7b_-L4YdQdS",
        "outputId": "6539bc83-7b4b-49eb-ad55-7cd3a3f16360"
      },
      "outputs": [
        {
          "output_type": "stream",
          "name": "stdout",
          "text": [
            "/content/multigec-models\n"
          ]
        }
      ],
      "source": [
        "%cd multigec-models"
      ]
    },
    {
      "cell_type": "code",
      "execution_count": 5,
      "metadata": {
        "id": "ak_WBUcgdWYE",
        "colab": {
          "base_uri": "https://localhost:8080/"
        },
        "outputId": "185d29ca-bade-4037-856e-24aa0a5a741d"
      },
      "outputs": [
        {
          "output_type": "stream",
          "name": "stdout",
          "text": [
            "Already up to date.\n"
          ]
        }
      ],
      "source": [
        "!git pull"
      ]
    },
    {
      "cell_type": "code",
      "execution_count": 6,
      "metadata": {
        "colab": {
          "base_uri": "https://localhost:8080/"
        },
        "id": "M0zzclvTdlkE",
        "outputId": "a553a8bd-db9c-44ff-f5c3-e20a7c763254",
        "collapsed": true
      },
      "outputs": [
        {
          "output_type": "stream",
          "name": "stdout",
          "text": [
            "\u001b[31mERROR: pip's dependency resolver does not currently take into account all the packages that are installed. This behaviour is the source of the following dependency conflicts.\n",
            "adapters 1.1.0 requires transformers~=4.47.1, but you have transformers 4.50.3 which is incompatible.\n",
            "wtpsplit 2.1.1 requires huggingface-hub==0.25.2, but you have huggingface-hub 0.30.0 which is incompatible.\u001b[0m\u001b[31m\n",
            "\u001b[0m"
          ]
        }
      ],
      "source": [
        "!pip install -U bitsandbytes peft accelerate datasets sentencepiece wandb python-dotenv wtpsplit -q\n",
        "!pip install flash-attn --no-build-isolation -q\n",
        "!pip install wtpsplit==2.1.1 -q\n",
        "!pip install syntok==1.4.4 -q\n",
        "!pip install omegaconf -q\n",
        "!pip install wandb -q\n",
        "!pip install --upgrade transformers trl -q\n",
        "!pip install pandas numpy -q"
      ]
    },
    {
      "cell_type": "code",
      "execution_count": 7,
      "metadata": {
        "colab": {
          "base_uri": "https://localhost:8080/"
        },
        "id": "lBGK2EtZO6tR",
        "outputId": "04ad1f23-2aa9-4a96-c93c-078af820f809"
      },
      "outputs": [
        {
          "output_type": "stream",
          "name": "stdout",
          "text": [
            "Mounted at /gdrive\n"
          ]
        }
      ],
      "source": [
        "from google.colab import drive\n",
        "drive.mount('/gdrive')"
      ]
    },
    {
      "cell_type": "code",
      "execution_count": 8,
      "metadata": {
        "id": "xLa_z_uleW1O"
      },
      "outputs": [],
      "source": [
        "import os\n",
        "\n",
        "from omegaconf import OmegaConf\n",
        "from transformers import AutoModelForCausalLM, AutoTokenizer, AutoConfig\n",
        "from huggingface_hub import login\n",
        "from src.utils.multigec import sentences, LANG_TO_CODE, LANG_CODE_TO_TOKEN\n",
        "from langchain_core.prompts import PromptTemplate\n",
        "\n",
        "from src.instruction_templates import multigec_prompts\n",
        "\n",
        "import torch\n",
        "import wandb\n",
        "\n",
        "from transformers import BitsAndBytesConfig\n",
        "from tqdm import tqdm\n",
        "from trl.trainer import ConstantLengthDataset\n",
        "import pandas as pd\n",
        "from datasets import Dataset\n",
        "from transformers.trainer_callback import EarlyStoppingCallback\n",
        "\n",
        "from transformers import TrainingArguments\n",
        "from trl import SFTConfig, SFTTrainer\n",
        "from peft import LoraConfig\n",
        "\n",
        "from peft import PeftModel, PeftModelForCausalLM\n",
        "\n",
        "tqdm.pandas()"
      ]
    },
    {
      "cell_type": "code",
      "execution_count": 9,
      "metadata": {
        "id": "ZrXeF2PMTA9C"
      },
      "outputs": [],
      "source": [
        "parameters = OmegaConf.load(\"./params/aya_expanse_8b.yaml\")"
      ]
    },
    {
      "cell_type": "code",
      "execution_count": 10,
      "metadata": {
        "id": "2orS0nY-j3QY"
      },
      "outputs": [],
      "source": [
        "track     = \"fluency\"\n",
        "fine_tuned_model_name = f\"aya-expanse-8b-multigec-{track}\"\n",
        "\n",
        "hf_key   = userdata.get(\"hf_key\")\n",
        "secret_wandb = userdata.get(\"wandb_key\")\n",
        "\n",
        "in_path  = f\"/content/drive/MyDrive/multigec/datasets/multigec_{track}.csv\"\n",
        "out_path = f\"/content/drive/MyDrive/multigec/preds/multigec_test_{track}.csv\"\n",
        "\n",
        "out_model_dir = f\"/content/drive/MyDrive/multigec/models/{fine_tuned_model_name}\"\n",
        "QUANTIZE_4BIT = True\n",
        "device   = \"cuda:0\""
      ]
    },
    {
      "cell_type": "code",
      "execution_count": 11,
      "metadata": {
        "id": "5ATeEv_etKR1"
      },
      "outputs": [],
      "source": [
        "login(hf_key)"
      ]
    },
    {
      "cell_type": "code",
      "execution_count": 12,
      "metadata": {
        "id": "oB4Vv3zFyHLd",
        "colab": {
          "base_uri": "https://localhost:8080/"
        },
        "outputId": "f74cc33d-3e8a-4ce6-a945-d3ef6cec171f"
      },
      "outputs": [
        {
          "output_type": "stream",
          "name": "stdout",
          "text": [
            "env: ‘-q’: No such file or directory\n"
          ]
        }
      ],
      "source": [
        "!env TORCH_USE_CUDA_DSA=1 -q"
      ]
    },
    {
      "cell_type": "code",
      "execution_count": 15,
      "metadata": {
        "colab": {
          "base_uri": "https://localhost:8080/",
          "height": 225,
          "referenced_widgets": [
            "e4cc5e897a5f4f49a980a82b0fc1bc9f",
            "969d7e8485d84c769758bebe2f8316dc",
            "ecaf0fa48e7b49bfbf8875f1f0f36e89",
            "ba354b1819d646348c5f78b7a4cc0cf2",
            "66398e9eb804439bacd134fbd2663059",
            "a05139096ddd4bde98f9520c65313db5",
            "bf79a66470754a3699277e04cc1bf632",
            "0a6a0acb8af740e680df86a9be1ac0d0",
            "92ebe71e0a80485890e8cab01296d0f0",
            "e5261d1ba82b4b1abbe8184200e01e77",
            "cda3e4b343aa479f8ae6f77fd9b983a6"
          ]
        },
        "id": "npCYpk8StL1L",
        "outputId": "da1043ef-1765-4def-b38f-fa74ee167d64"
      },
      "outputs": [
        {
          "output_type": "stream",
          "name": "stderr",
          "text": [
            "/usr/local/lib/python3.11/dist-packages/huggingface_hub/utils/_auth.py:94: UserWarning: \n",
            "The secret `HF_TOKEN` does not exist in your Colab secrets.\n",
            "To authenticate with the Hugging Face Hub, create a token in your settings tab (https://huggingface.co/settings/tokens), set it as secret in your Google Colab and restart your session.\n",
            "You will be able to reuse this secret in all of your notebooks.\n",
            "Please note that authentication is recommended but still optional to access public models or datasets.\n",
            "  warnings.warn(\n"
          ]
        },
        {
          "output_type": "display_data",
          "data": {
            "text/plain": [
              "Loading checkpoint shards:   0%|          | 0/4 [00:00<?, ?it/s]"
            ],
            "application/vnd.jupyter.widget-view+json": {
              "version_major": 2,
              "version_minor": 0,
              "model_id": "e4cc5e897a5f4f49a980a82b0fc1bc9f"
            }
          },
          "metadata": {}
        },
        {
          "output_type": "stream",
          "name": "stderr",
          "text": [
            "/usr/local/lib/python3.11/dist-packages/peft/utils/save_and_load.py:470: UserWarning: Some weights of PeftModelForCausalLM were not initialized from the model checkpoint and are being ignored because you passed `ignore_mismatched_sizes=True`: - base_model.model.lm_head.weight: found shape torch.Size([255040, 4096]) in the checkpoint and torch.Size([255029, 4096]) in the model instantiated\n",
            "- base_model.model.model.embed_tokens.weight: found shape torch.Size([255040, 4096]) in the checkpoint and torch.Size([255029, 4096]) in the model instantiated.\n",
            "  warnings.warn(msg)\n"
          ]
        }
      ],
      "source": [
        "base_model = \"CohereForAI/aya-expanse-8b\"\n",
        "saved_checkpoint = out_model_dir + \"/checkpoint-400\"\n",
        "\n",
        "quantization_config = None\n",
        "if QUANTIZE_4BIT:\n",
        "  quantization_config = BitsAndBytesConfig(\n",
        "      load_in_4bit=True,\n",
        "      bnb_4bit_quant_type=\"nf4\",\n",
        "      bnb_4bit_use_double_quant=True,\n",
        "      bnb_4bit_compute_dtype=torch.bfloat16,\n",
        "  )\n",
        "tokenizer = AutoTokenizer.from_pretrained(saved_checkpoint)\n",
        "config = AutoConfig.from_pretrained(base_model)\n",
        "base_model_instance = AutoModelForCausalLM.from_pretrained(\n",
        "    base_model,\n",
        "    config=config,\n",
        "    quantization_config=quantization_config,\n",
        "    torch_dtype=torch.bfloat16,\n",
        "    device_map=device,\n",
        "    attn_implementation=\"flash_attention_2\",\n",
        ")\n",
        "base_model_instance.resize_token_embeddings(len(tokenizer))\n",
        "model = PeftModelForCausalLM.from_pretrained(\n",
        "    base_model_instance,\n",
        "    saved_checkpoint,\n",
        "    torch_dtype=torch.bfloat16,\n",
        "    device_map=device,\n",
        "    ignore_mismatched_sizes=True\n",
        ")\n"
      ]
    },
    {
      "cell_type": "code",
      "execution_count": 16,
      "metadata": {
        "id": "tc_-2FtptNPf"
      },
      "outputs": [],
      "source": [
        "multigec_df = pd.read_csv(in_path)\n",
        "train_df = multigec_df.loc[multigec_df.loc[:, \"split\"] == \"train\"]\n",
        "val_df = multigec_df.loc[multigec_df.loc[:, \"split\"] == \"val\"]\n",
        "test_df = multigec_df.loc[multigec_df.loc[:, \"split\"] == \"test\"]"
      ]
    },
    {
      "cell_type": "code",
      "source": [
        "def formatting_prompts_func(example):\n",
        "    language_code = LANG_TO_CODE[example[\"language\"]]\n",
        "    language_token = LANG_CODE_TO_TOKEN[language_code]\n",
        "\n",
        "    user_input = example['feature']\n",
        "    prompt_template = multigec_prompts[example[\"language\"]].prompt_template\n",
        "    instruction = prompt_template.format(original_text=user_input)\n",
        "\n",
        "    text = f\"<|START_OF_TURN_TOKEN|><|USER_TOKEN|>{language_token}{instruction}<|END_OF_TURN_TOKEN|><|START_OF_TURN_TOKEN|><|CHATBOT_TOKEN|>\"\n",
        "\n",
        "    return text"
      ],
      "metadata": {
        "id": "vBTPiAb24tQP"
      },
      "execution_count": 17,
      "outputs": []
    },
    {
      "cell_type": "code",
      "source": [
        "from torch.utils.data import DataLoader\n",
        "from tqdm import tqdm\n",
        "\n",
        "max_new_tokens = 1600\n",
        "batch_size = 10\n",
        "save_each = 50\n",
        "\n",
        "# Assume test_df already exists and out_path is defined.\n",
        "# Filter rows that need processing (target is empty/NaN).\n",
        "to_process_df = test_df[test_df[\"target\"].isna()].reset_index()  # preserve original index in \"index\" column\n",
        "\n",
        "def collate_fn(examples):\n",
        "    indices = [ex[\"index\"] for ex in examples]\n",
        "    texts = [formatting_prompts_func(example) for example in examples]\n",
        "    tokenized = tokenizer(\n",
        "        texts,\n",
        "        padding=True,\n",
        "        truncation=True,\n",
        "        return_tensors=\"pt\"\n",
        "    )\n",
        "    tokenized[\"indices\"] = indices\n",
        "    return tokenized\n",
        "\n",
        "\n",
        "# Create DataLoader using only the rows that need processing.\n",
        "dataloader = DataLoader(\n",
        "    to_process_df.to_dict(orient=\"records\"),\n",
        "    batch_size=batch_size,\n",
        "    collate_fn=collate_fn\n",
        ")\n",
        "\n",
        "processed_rows = 0\n",
        "for batch in tqdm(dataloader):\n",
        "    input_ids = batch[\"input_ids\"].to(model.device)\n",
        "    attention_mask = batch.get(\"attention_mask\", None)\n",
        "    if attention_mask is not None:\n",
        "        attention_mask = attention_mask.to(model.device)\n",
        "    prompt_padded_len = len(input_ids[0])\n",
        "\n",
        "    gen_tokens = model.generate(\n",
        "        input_ids,\n",
        "        attention_mask=attention_mask,\n",
        "        temperature=parameters.baseline.temperature,\n",
        "        top_p=parameters.baseline.top_p,\n",
        "        top_k=parameters.baseline.top_k,\n",
        "        max_new_tokens=max_new_tokens,\n",
        "        do_sample=True,\n",
        "    )\n",
        "\n",
        "    # Remove the prompt tokens from the generated tokens\n",
        "    gen_tokens = [gt[prompt_padded_len:] for gt in gen_tokens]\n",
        "\n",
        "    # Decode generated tokens to text corrections\n",
        "    corrections = tokenizer.batch_decode(gen_tokens, skip_special_tokens=True)\n",
        "    corrections = [\"\".join(c) for c in corrections]\n",
        "\n",
        "    # Update the original DataFrame using the indices provided in the batch.\n",
        "    for idx, corr in zip(batch[\"indices\"], corrections):\n",
        "        test_df.loc[idx, \"target\"] = corr\n",
        "        processed_rows += 1\n",
        "\n",
        "        if processed_rows % save_each == 0:\n",
        "            test_df.to_csv(out_path, index=False)\n",
        "            print(f\"Saved progress after processing {processed_rows} rows.\")\n",
        "\n",
        "# Final save after processing all batches.\n",
        "test_df.to_csv(out_path, index=False)\n",
        "print(\"Final save complete!\")\n"
      ],
      "metadata": {
        "colab": {
          "base_uri": "https://localhost:8080/"
        },
        "id": "TJN5Jz1b-w6m",
        "outputId": "1a4c670e-0c69-4eb6-8b73-2b3931a675bf"
      },
      "execution_count": 24,
      "outputs": [
        {
          "output_type": "stream",
          "name": "stderr",
          "text": [
            "  0%|          | 0/12 [00:00<?, ?it/s]<ipython-input-24-d5099e36b07d>:59: SettingWithCopyWarning: \n",
            "A value is trying to be set on a copy of a slice from a DataFrame\n",
            "\n",
            "See the caveats in the documentation: https://pandas.pydata.org/pandas-docs/stable/user_guide/indexing.html#returning-a-view-versus-a-copy\n",
            "  test_df.loc[idx, \"target\"] = corr\n",
            " 42%|████▏     | 5/12 [21:29<27:25, 235.01s/it]"
          ]
        },
        {
          "output_type": "stream",
          "name": "stdout",
          "text": [
            "Saved progress after processing 50 rows.\n"
          ]
        },
        {
          "output_type": "stream",
          "name": "stderr",
          "text": [
            " 83%|████████▎ | 10/12 [36:33<05:59, 179.89s/it]"
          ]
        },
        {
          "output_type": "stream",
          "name": "stdout",
          "text": [
            "Saved progress after processing 100 rows.\n"
          ]
        },
        {
          "output_type": "stream",
          "name": "stderr",
          "text": [
            "100%|██████████| 12/12 [42:59<00:00, 214.94s/it]"
          ]
        },
        {
          "output_type": "stream",
          "name": "stdout",
          "text": [
            "Final save complete!\n"
          ]
        },
        {
          "output_type": "stream",
          "name": "stderr",
          "text": [
            "\n"
          ]
        }
      ]
    },
    {
      "cell_type": "code",
      "source": [
        "from google.colab import runtime\n",
        "runtime.unassign()"
      ],
      "metadata": {
        "id": "-kuc_5OVv5O_"
      },
      "execution_count": 25,
      "outputs": []
    },
    {
      "cell_type": "code",
      "source": [
        "test_df.to_csv(out_path)"
      ],
      "metadata": {
        "id": "ON5pgH47QAHk"
      },
      "execution_count": null,
      "outputs": []
    },
    {
      "cell_type": "code",
      "source": [
        "test_df"
      ],
      "metadata": {
        "id": "OumAP845Knzf"
      },
      "execution_count": null,
      "outputs": []
    },
    {
      "cell_type": "code",
      "source": [
        "test_df.reset_index()"
      ],
      "metadata": {
        "id": "2zK2AYCdMWie"
      },
      "execution_count": null,
      "outputs": []
    },
    {
      "cell_type": "markdown",
      "source": [],
      "metadata": {
        "id": "-TMY5ssQMIwO"
      }
    },
    {
      "cell_type": "markdown",
      "source": [],
      "metadata": {
        "id": "MlUL5kUoMIoF"
      }
    },
    {
      "cell_type": "markdown",
      "source": [],
      "metadata": {
        "id": "_897RbJPMIim"
      }
    },
    {
      "cell_type": "code",
      "source": [
        "test_df[:1].target"
      ],
      "metadata": {
        "id": "RJcxCEW9KitP"
      },
      "execution_count": null,
      "outputs": []
    },
    {
      "cell_type": "code",
      "source": [
        "print(test_df[:1].feature.item())"
      ],
      "metadata": {
        "id": "TPlDFy9kIxV9"
      },
      "execution_count": null,
      "outputs": []
    },
    {
      "cell_type": "code",
      "source": [
        "print(all_corrections[0])"
      ],
      "metadata": {
        "id": "FJsLBwz-HmDL"
      },
      "execution_count": null,
      "outputs": []
    },
    {
      "cell_type": "code",
      "source": [
        "\"\".join(all_corrections)"
      ],
      "metadata": {
        "id": "Ml0czNvKDuY9"
      },
      "execution_count": null,
      "outputs": []
    },
    {
      "cell_type": "code",
      "source": [],
      "metadata": {
        "id": "FidEj6fDHzlF"
      },
      "execution_count": null,
      "outputs": []
    },
    {
      "cell_type": "code",
      "source": [
        "test_df[:10]"
      ],
      "metadata": {
        "id": "VsiDAi6kCVxC"
      },
      "execution_count": null,
      "outputs": []
    },
    {
      "cell_type": "code",
      "source": [
        "test_df.to_csv(out_path)"
      ],
      "metadata": {
        "id": "kfAAKeNu_Cgn"
      },
      "execution_count": null,
      "outputs": []
    },
    {
      "cell_type": "code",
      "source": [
        "def make_correction(\n",
        "    model,\n",
        "    input: pd.Series,\n",
        "    tokenizer,\n",
        "    parameters: dict,\n",
        "    seq_lenght: int\n",
        "):\n",
        "    input = formatting_prompts_func(input)\n",
        "    input_ids = tokenizer(\n",
        "        [input],\n",
        "        padding=True,\n",
        "        return_tensors=\"pt\",\n",
        "    ).input_ids\n",
        "    input_ids = input_ids.to(model.device)\n",
        "    prompt_padded_len = len(input_ids[0])\n",
        "\n",
        "    # Generate corrections\n",
        "    gen_tokens = model.generate(\n",
        "        input_ids,\n",
        "        temperature=parameters.baseline.temperature,\n",
        "        top_p=parameters.baseline.top_p,\n",
        "        top_k=parameters.baseline.top_k,\n",
        "        max_new_tokens=seq_lenght,\n",
        "        do_sample=True,\n",
        "    )\n",
        "    gen_tokens = [\n",
        "        gt[prompt_padded_len:] for gt in gen_tokens\n",
        "    ]\n",
        "    outputs: list[str] = tokenizer.batch_decode(\n",
        "        gen_tokens,\n",
        "        skip_special_tokens=True\n",
        "    )\n",
        "    # Join divided texts if any\n",
        "    correction = \"\".join(outputs)\n",
        "\n",
        "    return correction\n",
        "\n",
        "test_df[:5][\"target\"] = test_df[:5].progress_apply(lambda x: make_correction(\n",
        "    model=model,\n",
        "    input=x,\n",
        "    tokenizer=tokenizer,\n",
        "    parameters=parameters,\n",
        "    seq_lenght=1600,\n",
        "), axis=1)\n",
        "test_df"
      ],
      "metadata": {
        "id": "cS0fDa2z4SKw"
      },
      "execution_count": null,
      "outputs": []
    },
    {
      "cell_type": "code",
      "source": [
        "test_df[:1].feature.item()"
      ],
      "metadata": {
        "id": "OhQuOl-HR2A4"
      },
      "execution_count": null,
      "outputs": []
    },
    {
      "cell_type": "code",
      "source": [
        "print(test_df[:1].target.item())"
      ],
      "metadata": {
        "id": "mi7NTUWpPPqx"
      },
      "execution_count": null,
      "outputs": []
    },
    {
      "cell_type": "code",
      "source": [],
      "metadata": {
        "id": "xkAHbeH9Rv5Y"
      },
      "execution_count": null,
      "outputs": []
    },
    {
      "cell_type": "code",
      "source": [],
      "metadata": {
        "id": "tEyaQxDURdMT"
      },
      "execution_count": null,
      "outputs": []
    },
    {
      "cell_type": "code",
      "source": [],
      "metadata": {
        "id": "yW1PkvfKPOjQ"
      },
      "execution_count": null,
      "outputs": []
    },
    {
      "cell_type": "code",
      "source": [],
      "metadata": {
        "id": "Z6Jin-73PN4X"
      },
      "execution_count": null,
      "outputs": []
    },
    {
      "cell_type": "code",
      "source": [],
      "metadata": {
        "id": "o3B5W0zQPLJA"
      },
      "execution_count": null,
      "outputs": []
    },
    {
      "cell_type": "code",
      "source": [
        "raise Exception(e)"
      ],
      "metadata": {
        "id": "3_Lz76039Yzc"
      },
      "execution_count": null,
      "outputs": []
    },
    {
      "cell_type": "code",
      "source": [
        "def formatting_prompts_func(example):\n",
        "    language_code = LANG_TO_CODE[example[\"language\"]]\n",
        "    language_token = LANG_CODE_TO_TOKEN[language_code]\n",
        "\n",
        "    user_input = example['feature']\n",
        "    prompt_template = multigec_prompts[example[\"language\"]].prompt_template\n",
        "    instruction = prompt_template.format(original_text=user_input)\n",
        "    target = example['target']\n",
        "\n",
        "    text = f\"<|START_OF_TURN_TOKEN|><|USER_TOKEN|>{language_token}{instruction}<|END_OF_TURN_TOKEN|><|START_OF_TURN_TOKEN|><|CHATBOT_TOKEN|>{target}\"\n",
        "\n",
        "    return text"
      ],
      "metadata": {
        "id": "fyrJgA5cOqIh"
      },
      "execution_count": null,
      "outputs": []
    },
    {
      "cell_type": "code",
      "source": [
        "num_added_toks = tokenizer.add_tokens(\n",
        "    [v for v in LANG_CODE_TO_TOKEN.values()],\n",
        "    special_tokens=True\n",
        ")\n",
        "model.resize_token_embeddings(len(tokenizer))"
      ],
      "metadata": {
        "id": "vCZ22H5qWpOa"
      },
      "execution_count": null,
      "outputs": []
    },
    {
      "cell_type": "code",
      "execution_count": null,
      "metadata": {
        "id": "uQjCg7j6G3SL"
      },
      "outputs": [],
      "source": [
        "training_dataset = Dataset.from_pandas(train_df)\n",
        "val_dataset = Dataset.from_pandas(val_df)\n",
        "\n",
        "seq_length = 1300\n",
        "\n",
        "cld_train_dataset = ConstantLengthDataset(\n",
        "    tokenizer=tokenizer,\n",
        "    dataset=training_dataset,\n",
        "    #dataset_text_field='feature',\n",
        "    seq_length=seq_length,\n",
        "    eos_token_id=tokenizer.eos_token_id,\n",
        "    shuffle=True,\n",
        "    append_concat_token=True,\n",
        "    add_special_tokens=True,\n",
        "    formatting_func=formatting_prompts_func,\n",
        ")\n",
        "cld_val_dataset = ConstantLengthDataset(\n",
        "    tokenizer=tokenizer,\n",
        "    dataset=val_dataset,\n",
        "    #dataset_text_field='feature',\n",
        "    seq_length=int(seq_length/2),\n",
        "    eos_token_id=tokenizer.eos_token_id,\n",
        "    shuffle=True,\n",
        "    append_concat_token=True,\n",
        "    add_special_tokens=True,\n",
        "    formatting_func=formatting_prompts_func,\n",
        ")"
      ]
    },
    {
      "cell_type": "code",
      "execution_count": null,
      "metadata": {
        "id": "hMLq8PqqwozH"
      },
      "outputs": [],
      "source": [
        "# parameters.training[\"gradient_accumulation_steps\"] = 8\n",
        "# parameters.training[\"per_device_train_batch_size\"] = 5\n",
        "# parameters.training[\"per_device_eval_batch_size\"] = 2\n",
        "# # Try these\n",
        "# parameters.training[\"lr_scheduler_type\"] = \"cosine\"\n",
        "# parameters.training[\"max_grad_norm\"] = 1.0\n",
        "# parameters.training[\"output_dir\"] = \"results\"\n",
        "# parameters.training[\"num_train_epochs\"] = 12\n",
        "# parameters.training[\"eval_strategy\"] = \"steps\"\n",
        "# parameters.training[\"save_strategy\"] = \"steps\"        # Save model after every step\n",
        "# parameters.training[\"metric_for_best_model\"] = \"eval_loss\"\n",
        "# parameters.training[\"greater_is_better\"] = False\n",
        "# parameters.training[\"group_by_length\"] = False # we already use CLD\n",
        "# parameters.training[\"save_total_limit\"] = 3           # Keep only the 3 most recent checkpoints\n",
        "# parameters.training[\"load_best_model_at_end\"] = True # EarlyStoppingCallback requires load_best_model_at_end = True\n",
        "# parameters.training[\"warmup_steps\"] = 50\n",
        "# parameters.training[\"learning_rate\"] = 3e-5\n",
        "# parameters.training[\"save_steps\"] = 25\n",
        "# parameters.training[\"weight_decay\"] = 0.0\n",
        "# early_stopping_patience = 75"
      ]
    },
    {
      "cell_type": "code",
      "source": [
        "cld_train_dataset"
      ],
      "metadata": {
        "id": "3v8tP2pMK4PO"
      },
      "execution_count": null,
      "outputs": []
    },
    {
      "cell_type": "code",
      "execution_count": null,
      "metadata": {
        "id": "fsUN8A2hPc02"
      },
      "outputs": [],
      "source": [
        "dict(parameters.training)"
      ]
    },
    {
      "cell_type": "code",
      "source": [
        "# def formatting_prompts_func_old(example):\n",
        "#     output_texts = []\n",
        "#     for i in range(len(example['inputs'])):\n",
        "#         language_code = LANG_TO_CODE[example[\"language\"]]\n",
        "#         language_token = LANG_CODE_TO_TOKEN[language_code]\n",
        "\n",
        "#         user_input = example['inputs'][i]\n",
        "#         prompt_template = multigec_prompts[example[\"language\"]]\n",
        "#         instruction = prompt_template.format(original_text=user_input)\n",
        "#         target = example['targets'][i]\n",
        "\n",
        "\n",
        "#         text = f\"<|START_OF_TURN_TOKEN|><|USER_TOKEN|>{language_token}{instruction}<|END_OF_TURN_TOKEN|><|START_OF_TURN_TOKEN|><|CHATBOT_TOKEN|>{target}\"\n",
        "#         output_texts.append(text)\n",
        "#     return output_texts\n",
        "\n",
        "# def formatting_prompts_func(example):\n",
        "#     language_code = LANG_TO_CODE[example[\"language\"]]\n",
        "#     language_token = LANG_CODE_TO_TOKEN[language_code]\n",
        "\n",
        "#     user_input = example['feature']\n",
        "#     prompt_template = multigec_prompts[example[\"language\"]]\n",
        "#     instruction = prompt_template.format(original_text=user_input)\n",
        "#     target = example['target']\n",
        "\n",
        "#     text = f\"<|START_OF_TURN_TOKEN|><|USER_TOKEN|>{language_token}{instruction}<|END_OF_TURN_TOKEN|><|START_OF_TURN_TOKEN|><|CHATBOT_TOKEN|>{target}\"\n",
        "\n",
        "#     return text"
      ],
      "metadata": {
        "id": "vEwN6naIKID6"
      },
      "execution_count": null,
      "outputs": []
    },
    {
      "cell_type": "code",
      "execution_count": null,
      "metadata": {
        "id": "-fXDzcmVNJ7D"
      },
      "outputs": [],
      "source": [
        "run = wandb.init(\n",
        "    project=wandb_project_name,\n",
        "    job_type=\"training\",\n",
        "    anonymous=\"allow\"\n",
        ")\n",
        "\n",
        "wandb.config.update(dict(parameters.training))\n",
        "\n",
        "peft_config = LoraConfig(\n",
        "    r=parameters.lora.r,\n",
        "    lora_alpha=parameters.lora.lora_alpha,\n",
        "    target_modules=list(parameters.lora.target_modules),\n",
        "    bias=parameters.lora.bias,\n",
        "    task_type=parameters.lora.task_type\n",
        ")\n",
        "training_arguments = SFTConfig(\n",
        "    **parameters.training,\n",
        "    packing=True,\n",
        "    max_seq_length=seq_length,\n",
        "    output_dir=out_model_dir,\n",
        ")\n",
        "trainer = SFTTrainer(\n",
        "    model=model,\n",
        "    train_dataset=cld_train_dataset,\n",
        "    eval_dataset=cld_val_dataset,\n",
        "    peft_config=peft_config,\n",
        "    args=training_arguments,\n",
        "    callbacks=[EarlyStoppingCallback(early_stopping_patience=parameters.early_stopping.early_stopping_patience)],\n",
        "    #formatting_func=formatting_prompts_func,\n",
        ")\n",
        "\n",
        "with torch.backends.cuda.sdp_kernel(\n",
        "    enable_flash=True,\n",
        "    enable_math=False,\n",
        "    enable_mem_efficient=False\n",
        "):\n",
        "    trainer.unload() # Should remove peft warnings\n",
        "    trainer.train(resume_from_checkpoint=True)"
      ]
    },
    {
      "cell_type": "code",
      "execution_count": null,
      "metadata": {
        "id": "HnKaZ7pbCxG_"
      },
      "outputs": [],
      "source": [
        "import time\n",
        "\n",
        "run_name = wandb.run.name\n",
        "model_out_path = f\"/gdrive/MyDrive/models/multigec/{run_name}\"\n",
        "os.makedirs(model_out_path, exist_ok=True)\n",
        "trainer.model.save_pretrained(model_out_path)\n",
        "wandb.save(model_out_path + \"/*\")\n",
        "model.config.use_cache = True\n",
        "model.eval()\n",
        "time.sleep(30)"
      ]
    },
    {
      "cell_type": "code",
      "execution_count": null,
      "outputs": [],
      "source": [
        "test_df = multigec_df.loc[multigec_df.loc[:, \"split\"] == \"test\"]\n",
        "\n",
        "def make_correction(\n",
        "    model,\n",
        "    input: pd.Series,\n",
        "    tokenizer,\n",
        "    parameters: dict,\n",
        "    seq_lenght: int\n",
        "):\n",
        "    language: str = input[\"language\"]\n",
        "    language_code: str = LANG_TO_CODE[language]\n",
        "    language_token: str = LANG_CODE_TO_TOKEN[language_code]\n",
        "    prompt_template: PromptTemplate = multigec_prompts[language]\n",
        "\n",
        "    # Prepare inputs\n",
        "    inputs: list[str] = sentences(input)\n",
        "    inputs = [language_token + prompt_template.format(original_text=input) for input in inputs]\n",
        "    inputs: list[dict[str, str]] = get_message_format(inputs)\n",
        "    input_ids = tokenizer.apply_chat_template(\n",
        "        inputs,\n",
        "        tokenize=True,\n",
        "        add_generation_prompt=True,\n",
        "        padding=True,\n",
        "        return_tensors=\"pt\",\n",
        "    )\n",
        "    input_ids = input_ids.to(model.device)\n",
        "    prompt_padded_len = len(input_ids[0])\n",
        "\n",
        "    # Generate corrections\n",
        "    gen_tokens = model.generate(\n",
        "        input_ids,\n",
        "        temperature=parameters.baseline.temperature,\n",
        "        top_p=parameters.baseline.top_p,\n",
        "        top_k=parameters.baseline.top_k,\n",
        "        max_new_tokens=seq_lenght,\n",
        "        do_sample=True,\n",
        "    )\n",
        "    gen_tokens = [\n",
        "        gt[prompt_padded_len:] for gt in gen_tokens\n",
        "    ]\n",
        "    outputs: list[str] = tokenizer.batch_decode(\n",
        "        gen_tokens,\n",
        "        skip_special_tokens=True\n",
        "    )\n",
        "    # Join divided texts if any\n",
        "    correction = \"\".join(outputs)\n",
        "\n",
        "    return correction\n",
        "\n",
        "test_df.progress_apply(lambda x: make_correction(\n",
        "    model=model,\n",
        "    input=x,\n",
        "    tokenizer=tokenizer,\n",
        "    parameters=parameters,\n",
        "    seq_lenght=seq_length,\n",
        "))\n",
        "test_df"
      ],
      "metadata": {
        "id": "H_H5HvEYUK_F"
      }
    },
    {
      "cell_type": "code",
      "execution_count": null,
      "outputs": [],
      "source": [
        "test_df.to_csv(out_path)"
      ],
      "metadata": {
        "id": "477hrCXNUK_F"
      }
    },
    {
      "cell_type": "code",
      "execution_count": null,
      "metadata": {
        "id": "U9CUMSMx6vyM"
      },
      "outputs": [],
      "source": [
        "wandb.finish()"
      ]
    },
    {
      "cell_type": "code",
      "execution_count": null,
      "metadata": {
        "id": "SoTVI79YGic_"
      },
      "outputs": [],
      "source": [
        "raise Exception e"
      ]
    },
    {
      "cell_type": "code",
      "execution_count": 21,
      "metadata": {
        "id": "NER-tGaxxE_e",
        "colab": {
          "base_uri": "https://localhost:8080/"
        },
        "outputId": "24e7b7f7-ce3c-4cf6-f4c9-ca4feff07258"
      },
      "outputs": [
        {
          "output_type": "stream",
          "name": "stdout",
          "text": [
            "Mon Mar 31 12:24:43 2025       \n",
            "+-----------------------------------------------------------------------------------------+\n",
            "| NVIDIA-SMI 550.54.15              Driver Version: 550.54.15      CUDA Version: 12.4     |\n",
            "|-----------------------------------------+------------------------+----------------------+\n",
            "| GPU  Name                 Persistence-M | Bus-Id          Disp.A | Volatile Uncorr. ECC |\n",
            "| Fan  Temp   Perf          Pwr:Usage/Cap |           Memory-Usage | GPU-Util  Compute M. |\n",
            "|                                         |                        |               MIG M. |\n",
            "|=========================================+========================+======================|\n",
            "|   0  NVIDIA A100-SXM4-40GB          Off |   00000000:00:04.0 Off |                    0 |\n",
            "| N/A   32C    P0             66W /  400W |   28505MiB /  40960MiB |      0%      Default |\n",
            "|                                         |                        |             Disabled |\n",
            "+-----------------------------------------+------------------------+----------------------+\n",
            "                                                                                         \n",
            "+-----------------------------------------------------------------------------------------+\n",
            "| Processes:                                                                              |\n",
            "|  GPU   GI   CI        PID   Type   Process name                              GPU Memory |\n",
            "|        ID   ID                                                               Usage      |\n",
            "|=========================================================================================|\n",
            "+-----------------------------------------------------------------------------------------+\n"
          ]
        }
      ],
      "source": [
        "!nvidia-smi"
      ]
    },
    {
      "cell_type": "code",
      "execution_count": 23,
      "outputs": [],
      "source": [
        "torch.cuda.empty_cache()"
      ],
      "metadata": {
        "id": "SJnYGEZIUK_F"
      }
    },
    {
      "cell_type": "code",
      "execution_count": null,
      "outputs": [],
      "source": [
        "!pip install pynvml -q"
      ],
      "metadata": {
        "id": "33M51z4NUK_F"
      }
    },
    {
      "cell_type": "code",
      "execution_count": null,
      "outputs": [],
      "source": [
        "from google.colab import runtime\n",
        "runtime.unassign()"
      ],
      "metadata": {
        "id": "shMkTieDUK_F"
      }
    },
    {
      "cell_type": "code",
      "execution_count": 22,
      "outputs": [
        {
          "output_type": "execute_result",
          "data": {
            "text/plain": [
              "0"
            ]
          },
          "metadata": {},
          "execution_count": 22
        }
      ],
      "source": [
        "import gc\n",
        "\n",
        "gc.collect()"
      ],
      "metadata": {
        "id": "cl0vFnbdUK_F",
        "colab": {
          "base_uri": "https://localhost:8080/"
        },
        "outputId": "a982a4b3-1e1c-4271-c371-10c76082034a"
      }
    },
    {
      "cell_type": "code",
      "execution_count": null,
      "outputs": [],
      "source": [
        "import time\n",
        "from pynvml import nvmlInit, nvmlDeviceGetHandleByIndex, nvmlDeviceGetMemoryInfo\n",
        "\n",
        "def wait_until_enough_gpu_memory(min_memory_available, max_retries=10, sleep_time=5):\n",
        "    nvmlInit()\n",
        "    handle = nvmlDeviceGetHandleByIndex(torch.cuda.current_device())\n",
        "\n",
        "    for _ in range(max_retries):\n",
        "        clear_gpu_memory()\n",
        "        info = nvmlDeviceGetMemoryInfo(handle)\n",
        "        if info.free >= min_memory_available:\n",
        "            break\n",
        "        print(f\"Waiting for {min_memory_available} bytes of free GPU memory. Retrying in {sleep_time} seconds...\")\n",
        "        time.sleep(sleep_time)\n",
        "    else:\n",
        "        raise RuntimeError(f\"Failed to acquire {min_memory_available} bytes of free GPU memory after {max_retries} retries.\")\n",
        "\n",
        "# Usage example\n",
        "min_memory_available = 38 * 1024 * 1024 * 1024  # 30GB\n",
        "clear_gpu_memory()\n",
        "wait_until_enough_gpu_memory(min_memory_available)"
      ],
      "metadata": {
        "id": "x-twetpFUK_F"
      }
    },
    {
      "cell_type": "code",
      "execution_count": null,
      "outputs": [],
      "source": [
        "del model"
      ],
      "metadata": {
        "id": "4nyUXVAPUK_F"
      }
    },
    {
      "cell_type": "code",
      "execution_count": null,
      "outputs": [],
      "source": [
        "del trainer"
      ],
      "metadata": {
        "id": "xi5q_6xLUK_G"
      }
    }
  ],
  "metadata": {
    "accelerator": "GPU",
    "colab": {
      "gpuType": "A100",
      "machine_shape": "hm",
      "provenance": [],
      "include_colab_link": true
    },
    "kernelspec": {
      "display_name": "Python 3",
      "name": "python3"
    },
    "language_info": {
      "name": "python"
    },
    "widgets": {
      "application/vnd.jupyter.widget-state+json": {
        "e4cc5e897a5f4f49a980a82b0fc1bc9f": {
          "model_module": "@jupyter-widgets/controls",
          "model_name": "HBoxModel",
          "model_module_version": "1.5.0",
          "state": {
            "_dom_classes": [],
            "_model_module": "@jupyter-widgets/controls",
            "_model_module_version": "1.5.0",
            "_model_name": "HBoxModel",
            "_view_count": null,
            "_view_module": "@jupyter-widgets/controls",
            "_view_module_version": "1.5.0",
            "_view_name": "HBoxView",
            "box_style": "",
            "children": [
              "IPY_MODEL_969d7e8485d84c769758bebe2f8316dc",
              "IPY_MODEL_ecaf0fa48e7b49bfbf8875f1f0f36e89",
              "IPY_MODEL_ba354b1819d646348c5f78b7a4cc0cf2"
            ],
            "layout": "IPY_MODEL_66398e9eb804439bacd134fbd2663059"
          }
        },
        "969d7e8485d84c769758bebe2f8316dc": {
          "model_module": "@jupyter-widgets/controls",
          "model_name": "HTMLModel",
          "model_module_version": "1.5.0",
          "state": {
            "_dom_classes": [],
            "_model_module": "@jupyter-widgets/controls",
            "_model_module_version": "1.5.0",
            "_model_name": "HTMLModel",
            "_view_count": null,
            "_view_module": "@jupyter-widgets/controls",
            "_view_module_version": "1.5.0",
            "_view_name": "HTMLView",
            "description": "",
            "description_tooltip": null,
            "layout": "IPY_MODEL_a05139096ddd4bde98f9520c65313db5",
            "placeholder": "​",
            "style": "IPY_MODEL_bf79a66470754a3699277e04cc1bf632",
            "value": "Loading checkpoint shards: 100%"
          }
        },
        "ecaf0fa48e7b49bfbf8875f1f0f36e89": {
          "model_module": "@jupyter-widgets/controls",
          "model_name": "FloatProgressModel",
          "model_module_version": "1.5.0",
          "state": {
            "_dom_classes": [],
            "_model_module": "@jupyter-widgets/controls",
            "_model_module_version": "1.5.0",
            "_model_name": "FloatProgressModel",
            "_view_count": null,
            "_view_module": "@jupyter-widgets/controls",
            "_view_module_version": "1.5.0",
            "_view_name": "ProgressView",
            "bar_style": "success",
            "description": "",
            "description_tooltip": null,
            "layout": "IPY_MODEL_0a6a0acb8af740e680df86a9be1ac0d0",
            "max": 4,
            "min": 0,
            "orientation": "horizontal",
            "style": "IPY_MODEL_92ebe71e0a80485890e8cab01296d0f0",
            "value": 4
          }
        },
        "ba354b1819d646348c5f78b7a4cc0cf2": {
          "model_module": "@jupyter-widgets/controls",
          "model_name": "HTMLModel",
          "model_module_version": "1.5.0",
          "state": {
            "_dom_classes": [],
            "_model_module": "@jupyter-widgets/controls",
            "_model_module_version": "1.5.0",
            "_model_name": "HTMLModel",
            "_view_count": null,
            "_view_module": "@jupyter-widgets/controls",
            "_view_module_version": "1.5.0",
            "_view_name": "HTMLView",
            "description": "",
            "description_tooltip": null,
            "layout": "IPY_MODEL_e5261d1ba82b4b1abbe8184200e01e77",
            "placeholder": "​",
            "style": "IPY_MODEL_cda3e4b343aa479f8ae6f77fd9b983a6",
            "value": " 4/4 [00:12&lt;00:00,  2.59s/it]"
          }
        },
        "66398e9eb804439bacd134fbd2663059": {
          "model_module": "@jupyter-widgets/base",
          "model_name": "LayoutModel",
          "model_module_version": "1.2.0",
          "state": {
            "_model_module": "@jupyter-widgets/base",
            "_model_module_version": "1.2.0",
            "_model_name": "LayoutModel",
            "_view_count": null,
            "_view_module": "@jupyter-widgets/base",
            "_view_module_version": "1.2.0",
            "_view_name": "LayoutView",
            "align_content": null,
            "align_items": null,
            "align_self": null,
            "border": null,
            "bottom": null,
            "display": null,
            "flex": null,
            "flex_flow": null,
            "grid_area": null,
            "grid_auto_columns": null,
            "grid_auto_flow": null,
            "grid_auto_rows": null,
            "grid_column": null,
            "grid_gap": null,
            "grid_row": null,
            "grid_template_areas": null,
            "grid_template_columns": null,
            "grid_template_rows": null,
            "height": null,
            "justify_content": null,
            "justify_items": null,
            "left": null,
            "margin": null,
            "max_height": null,
            "max_width": null,
            "min_height": null,
            "min_width": null,
            "object_fit": null,
            "object_position": null,
            "order": null,
            "overflow": null,
            "overflow_x": null,
            "overflow_y": null,
            "padding": null,
            "right": null,
            "top": null,
            "visibility": null,
            "width": null
          }
        },
        "a05139096ddd4bde98f9520c65313db5": {
          "model_module": "@jupyter-widgets/base",
          "model_name": "LayoutModel",
          "model_module_version": "1.2.0",
          "state": {
            "_model_module": "@jupyter-widgets/base",
            "_model_module_version": "1.2.0",
            "_model_name": "LayoutModel",
            "_view_count": null,
            "_view_module": "@jupyter-widgets/base",
            "_view_module_version": "1.2.0",
            "_view_name": "LayoutView",
            "align_content": null,
            "align_items": null,
            "align_self": null,
            "border": null,
            "bottom": null,
            "display": null,
            "flex": null,
            "flex_flow": null,
            "grid_area": null,
            "grid_auto_columns": null,
            "grid_auto_flow": null,
            "grid_auto_rows": null,
            "grid_column": null,
            "grid_gap": null,
            "grid_row": null,
            "grid_template_areas": null,
            "grid_template_columns": null,
            "grid_template_rows": null,
            "height": null,
            "justify_content": null,
            "justify_items": null,
            "left": null,
            "margin": null,
            "max_height": null,
            "max_width": null,
            "min_height": null,
            "min_width": null,
            "object_fit": null,
            "object_position": null,
            "order": null,
            "overflow": null,
            "overflow_x": null,
            "overflow_y": null,
            "padding": null,
            "right": null,
            "top": null,
            "visibility": null,
            "width": null
          }
        },
        "bf79a66470754a3699277e04cc1bf632": {
          "model_module": "@jupyter-widgets/controls",
          "model_name": "DescriptionStyleModel",
          "model_module_version": "1.5.0",
          "state": {
            "_model_module": "@jupyter-widgets/controls",
            "_model_module_version": "1.5.0",
            "_model_name": "DescriptionStyleModel",
            "_view_count": null,
            "_view_module": "@jupyter-widgets/base",
            "_view_module_version": "1.2.0",
            "_view_name": "StyleView",
            "description_width": ""
          }
        },
        "0a6a0acb8af740e680df86a9be1ac0d0": {
          "model_module": "@jupyter-widgets/base",
          "model_name": "LayoutModel",
          "model_module_version": "1.2.0",
          "state": {
            "_model_module": "@jupyter-widgets/base",
            "_model_module_version": "1.2.0",
            "_model_name": "LayoutModel",
            "_view_count": null,
            "_view_module": "@jupyter-widgets/base",
            "_view_module_version": "1.2.0",
            "_view_name": "LayoutView",
            "align_content": null,
            "align_items": null,
            "align_self": null,
            "border": null,
            "bottom": null,
            "display": null,
            "flex": null,
            "flex_flow": null,
            "grid_area": null,
            "grid_auto_columns": null,
            "grid_auto_flow": null,
            "grid_auto_rows": null,
            "grid_column": null,
            "grid_gap": null,
            "grid_row": null,
            "grid_template_areas": null,
            "grid_template_columns": null,
            "grid_template_rows": null,
            "height": null,
            "justify_content": null,
            "justify_items": null,
            "left": null,
            "margin": null,
            "max_height": null,
            "max_width": null,
            "min_height": null,
            "min_width": null,
            "object_fit": null,
            "object_position": null,
            "order": null,
            "overflow": null,
            "overflow_x": null,
            "overflow_y": null,
            "padding": null,
            "right": null,
            "top": null,
            "visibility": null,
            "width": null
          }
        },
        "92ebe71e0a80485890e8cab01296d0f0": {
          "model_module": "@jupyter-widgets/controls",
          "model_name": "ProgressStyleModel",
          "model_module_version": "1.5.0",
          "state": {
            "_model_module": "@jupyter-widgets/controls",
            "_model_module_version": "1.5.0",
            "_model_name": "ProgressStyleModel",
            "_view_count": null,
            "_view_module": "@jupyter-widgets/base",
            "_view_module_version": "1.2.0",
            "_view_name": "StyleView",
            "bar_color": null,
            "description_width": ""
          }
        },
        "e5261d1ba82b4b1abbe8184200e01e77": {
          "model_module": "@jupyter-widgets/base",
          "model_name": "LayoutModel",
          "model_module_version": "1.2.0",
          "state": {
            "_model_module": "@jupyter-widgets/base",
            "_model_module_version": "1.2.0",
            "_model_name": "LayoutModel",
            "_view_count": null,
            "_view_module": "@jupyter-widgets/base",
            "_view_module_version": "1.2.0",
            "_view_name": "LayoutView",
            "align_content": null,
            "align_items": null,
            "align_self": null,
            "border": null,
            "bottom": null,
            "display": null,
            "flex": null,
            "flex_flow": null,
            "grid_area": null,
            "grid_auto_columns": null,
            "grid_auto_flow": null,
            "grid_auto_rows": null,
            "grid_column": null,
            "grid_gap": null,
            "grid_row": null,
            "grid_template_areas": null,
            "grid_template_columns": null,
            "grid_template_rows": null,
            "height": null,
            "justify_content": null,
            "justify_items": null,
            "left": null,
            "margin": null,
            "max_height": null,
            "max_width": null,
            "min_height": null,
            "min_width": null,
            "object_fit": null,
            "object_position": null,
            "order": null,
            "overflow": null,
            "overflow_x": null,
            "overflow_y": null,
            "padding": null,
            "right": null,
            "top": null,
            "visibility": null,
            "width": null
          }
        },
        "cda3e4b343aa479f8ae6f77fd9b983a6": {
          "model_module": "@jupyter-widgets/controls",
          "model_name": "DescriptionStyleModel",
          "model_module_version": "1.5.0",
          "state": {
            "_model_module": "@jupyter-widgets/controls",
            "_model_module_version": "1.5.0",
            "_model_name": "DescriptionStyleModel",
            "_view_count": null,
            "_view_module": "@jupyter-widgets/base",
            "_view_module_version": "1.2.0",
            "_view_name": "StyleView",
            "description_width": ""
          }
        }
      }
    }
  },
  "nbformat": 4,
  "nbformat_minor": 0
}