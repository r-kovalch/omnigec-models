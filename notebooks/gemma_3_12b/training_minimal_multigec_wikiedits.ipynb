{
 "cells": [
  {
   "cell_type": "markdown",
   "metadata": {
    "id": "view-in-github",
    "colab_type": "text"
   },
   "source": [
    "<a href=\"https://colab.research.google.com/github/Reennon/multigec-models/blob/main/notebooks/gemma_3_12b/multigec/multigec.ipynb\" target=\"_parent\"><img src=\"https://colab.research.google.com/assets/colab-badge.svg\" alt=\"Open In Colab\"/></a>"
   ]
  },
  {
   "cell_type": "code",
   "execution_count": null,
   "metadata": {
    "id": "UsXRO225aQG5"
   },
   "outputs": [],
   "source": [
    "import os\n",
    "\n",
    "from google.colab import userdata\n",
    "\n",
    "os.environ[\"GIT_TOKEN\"] = userdata.get('git_token')"
   ]
  },
  {
   "cell_type": "code",
   "execution_count": null,
   "metadata": {
    "id": "J_IRXNxZaF4Y",
    "colab": {
     "base_uri": "https://localhost:8080/"
    },
    "outputId": "2d07e9ff-6a19-4c1b-b173-958ce220768c"
   },
   "outputs": [],
   "source": [
    "!git clone https://$GIT_TOKEN@github.com/Reennon/omnigec-models.git"
   ]
  },
  {
   "cell_type": "code",
   "execution_count": null,
   "metadata": {
    "id": "u7b_-L4YdQdS",
    "colab": {
     "base_uri": "https://localhost:8080/"
    },
    "outputId": "b5bde605-3db9-45cb-b487-8d826ff70dc5"
   },
   "outputs": [],
   "source": [
    "%cd omnigec-models"
   ]
  },
  {
   "cell_type": "code",
   "execution_count": null,
   "metadata": {
    "id": "ak_WBUcgdWYE",
    "colab": {
     "base_uri": "https://localhost:8080/"
    },
    "outputId": "ead7db7a-f61b-4996-8726-1f4e20316a67"
   },
   "outputs": [],
   "source": [
    "!git pull"
   ]
  },
  {
   "cell_type": "code",
   "execution_count": null,
   "metadata": {
    "id": "M0zzclvTdlkE",
    "collapsed": true,
    "colab": {
     "base_uri": "https://localhost:8080/"
    },
    "outputId": "29e5ba9c-e9c6-4b15-81a0-1eafe8245d41"
   },
   "outputs": [],
   "source": [
    "!pip install -U bitsandbytes peft accelerate datasets sentencepiece wandb python-dotenv wtpsplit -q\n",
    "!pip install flash-attn --no-build-isolation -q\n",
    "!pip install wtpsplit==2.1.1 -q\n",
    "!pip install syntok==1.4.4 -q\n",
    "!pip install omegaconf -q\n",
    "!pip install wandb -q\n",
    "!pip install --upgrade git+https://github.com/huggingface/transformers.git -q\n",
    "!pip install --upgrade trl -q\n",
    "!pip install pandas numpy -q"
   ]
  },
  {
   "cell_type": "code",
   "execution_count": null,
   "metadata": {
    "id": "lBGK2EtZO6tR",
    "colab": {
     "base_uri": "https://localhost:8080/"
    },
    "outputId": "11f41ad4-908b-4cd4-bbdf-2d7613d12a69"
   },
   "outputs": [],
   "source": [
    "from google.colab import drive\n",
    "drive.mount('/gdrive')"
   ]
  },
  {
   "cell_type": "code",
   "execution_count": null,
   "metadata": {
    "id": "xLa_z_uleW1O"
   },
   "outputs": [],
   "source": [
    "import os\n",
    "\n",
    "from omegaconf import OmegaConf\n",
    "from transformers import AutoModelForCausalLM, AutoTokenizer, AutoConfig\n",
    "from huggingface_hub import login\n",
    "from src.utils.multigec import sentences, LANG_TO_CODE, LANG_CODE_TO_TOKEN\n",
    "from src.utils.gemma_utils import training_formatting_prompts_func as formatting_prompts_func\n",
    "from langchain_core.prompts import PromptTemplate\n",
    "\n",
    "from src.instruction_templates import multigec_prompts\n",
    "\n",
    "import torch\n",
    "import wandb\n",
    "\n",
    "from transformers import BitsAndBytesConfig\n",
    "from tqdm import tqdm\n",
    "from trl.trainer import ConstantLengthDataset\n",
    "import pandas as pd\n",
    "from datasets import Dataset\n",
    "from transformers.trainer_callback import EarlyStoppingCallback\n",
    "\n",
    "from transformers import TrainingArguments\n",
    "from trl import SFTConfig, SFTTrainer\n",
    "from peft import LoraConfig\n",
    "\n",
    "tqdm.pandas()"
   ]
  },
  {
   "cell_type": "code",
   "execution_count": null,
   "metadata": {
    "id": "ZrXeF2PMTA9C"
   },
   "outputs": [],
   "source": [
    "parameters = OmegaConf.load(\"./params/gemma_3_12b.yaml\")"
   ]
  },
  {
   "cell_type": "code",
   "execution_count": null,
   "metadata": {
    "id": "2orS0nY-j3QY"
   },
   "outputs": [],
   "source": [
    "track                   = \"minimal\"\n",
    "model_name              = \"gemma-3-12b-it\"\n",
    "fine_tuned_model_name   = f\"gemma-3-12b-it-multigec-wikiedits-{track}\"\n",
    "experiment_name         = f\"multigec-{track}-{model_name}\"\n",
    "\n",
    "hf_key                  = userdata.get(\"hf_key\")\n",
    "secret_wandb            = userdata.get(\"wandb_key\")\n",
    "\n",
    "in_path                 = f\"/gdrive/MyDrive/omnigec/datasets/multigec_wikiedits_{track}.csv\"\n",
    "out_path                = f\"/gdrive/MyDrive/omnigec/preds/multigec_wikiedits_test_{track}.csv\"\n",
    "out_model_dir           = f\"/gdrive/MyDrive/omnigec/models/{fine_tuned_model_name}\"\n",
    "\n",
    "QUANTIZE_4BIT           = True\n",
    "device                  = \"cuda:0\""
   ]
  },
  {
   "cell_type": "code",
   "execution_count": null,
   "metadata": {
    "id": "28RJwo6zBniK",
    "collapsed": true,
    "colab": {
     "base_uri": "https://localhost:8080/"
    },
    "outputId": "1f6b6ce3-38cf-415e-e282-088b6dbc7115"
   },
   "outputs": [],
   "source": [
    "wandb_project_name = f'{model_name.upper()}-multigec-wikiedits-{track}'\n",
    "\n",
    "wandb.login(key = secret_wandb)"
   ]
  },
  {
   "cell_type": "code",
   "execution_count": null,
   "metadata": {
    "id": "5ATeEv_etKR1"
   },
   "outputs": [],
   "source": [
    "login(hf_key)"
   ]
  },
  {
   "cell_type": "code",
   "execution_count": null,
   "metadata": {
    "id": "oB4Vv3zFyHLd",
    "colab": {
     "base_uri": "https://localhost:8080/"
    },
    "outputId": "28f7a1bb-8897-42b3-9a48-d61bc11d961d"
   },
   "outputs": [],
   "source": [
    "!env TORCH_USE_CUDA_DSA=1"
   ]
  },
  {
   "cell_type": "code",
   "execution_count": null,
   "metadata": {
    "id": "npCYpk8StL1L",
    "colab": {
     "base_uri": "https://localhost:8080/",
     "height": 190,
     "referenced_widgets": [
      "00972fb730734bb3a8b2ac21fb440109",
      "43151c7e4a2c42d0a8530dfce7d99293",
      "ae96066b090d455a91bdce2336f25139",
      "aa10def4dc494f01a7948e14a4a70833",
      "6882b5db4f8141b685cbb31dcd755dc5",
      "fc84f2113bdf4e6cab5d4ab1cccfa034",
      "be44b5edc92e4c88a851c53ea2aec7ad",
      "8e2182bba96440b5bda6116f2f034c4e",
      "d296581dba844100a9ccabff99dcf275",
      "4319b115400b4fef944e79293122f7ed",
      "7795376ab7224580a1643cec7a49ba9d"
     ]
    },
    "outputId": "8d22a02f-2558-4a51-894d-bbfe2be61523"
   },
   "outputs": [],
   "source": [
    "checkpoint = f\"google/{model_name}\"\n",
    "quantization_config = None\n",
    "if QUANTIZE_4BIT:\n",
    "  quantization_config = BitsAndBytesConfig(\n",
    "      load_in_4bit=True,\n",
    "      bnb_4bit_quant_type=\"nf4\",\n",
    "      bnb_4bit_use_double_quant=True,\n",
    "      bnb_4bit_compute_dtype=torch.bfloat16,\n",
    "      bnb_4bit_quant_storage=torch.bfloat16,\n",
    "  )\n",
    "tokenizer = AutoTokenizer.from_pretrained(checkpoint)\n",
    "config = AutoConfig.from_pretrained(checkpoint)\n",
    "config.text_config.use_cache = False\n",
    "model = AutoModelForCausalLM.from_pretrained(\n",
    "    checkpoint,\n",
    "    config=config,\n",
    "    quantization_config=quantization_config,\n",
    "    torch_dtype=\"bfloat16\",\n",
    "    device_map=device,\n",
    "    attn_implementation=\"eager\",\n",
    ")"
   ]
  },
  {
   "cell_type": "code",
   "execution_count": null,
   "metadata": {
    "id": "tc_-2FtptNPf"
   },
   "outputs": [],
   "source": [
    "multigec_df = pd.read_csv(in_path)\n",
    "train_df = multigec_df.loc[multigec_df.loc[:, \"split\"] == \"train\"]\n",
    "val_df = multigec_df.loc[multigec_df.loc[:, \"split\"] == \"val\"]"
   ]
  },
  {
   "cell_type": "code",
   "source": [
    "num_added_toks = tokenizer.add_tokens(\n",
    "    [v for v in LANG_CODE_TO_TOKEN.values()],\n",
    "    special_tokens=True\n",
    ")\n",
    "model.resize_token_embeddings(len(tokenizer))"
   ],
   "metadata": {
    "id": "vCZ22H5qWpOa",
    "colab": {
     "base_uri": "https://localhost:8080/"
    },
    "outputId": "634ad0c2-d32b-4fbe-b6e1-b14f1752b1cf"
   },
   "execution_count": null,
   "outputs": []
  },
  {
   "cell_type": "code",
   "execution_count": null,
   "metadata": {
    "id": "uQjCg7j6G3SL"
   },
   "outputs": [],
   "source": [
    "training_dataset = Dataset.from_pandas(train_df).shuffle()\n",
    "val_dataset = Dataset.from_pandas(val_df).shuffle()\n",
    "\n",
    "seq_length = 1600\n",
    "\n",
    "cld_train_dataset = ConstantLengthDataset(\n",
    "    tokenizer=tokenizer,\n",
    "    dataset=training_dataset,\n",
    "    seq_length=seq_length,\n",
    "    eos_token_id=tokenizer.eos_token_id,\n",
    "    shuffle=True,\n",
    "    append_concat_token=True,\n",
    "    add_special_tokens=True,\n",
    "    formatting_func=formatting_prompts_func,\n",
    ")\n",
    "cld_val_dataset = ConstantLengthDataset(\n",
    "    tokenizer=tokenizer,\n",
    "    dataset=val_dataset,\n",
    "    seq_length=int(seq_length/2),\n",
    "    eos_token_id=tokenizer.eos_token_id,\n",
    "    shuffle=True,\n",
    "    append_concat_token=True,\n",
    "    add_special_tokens=True,\n",
    "    formatting_func=formatting_prompts_func,\n",
    ")"
   ]
  },
  {
   "cell_type": "code",
   "execution_count": null,
   "metadata": {
    "id": "hMLq8PqqwozH"
   },
   "outputs": [],
   "source": [
    "parameters.training[\"gradient_accumulation_steps\"] = 10\n",
    "parameters.training[\"per_device_train_batch_size\"] = 3\n",
    "parameters.training[\"per_device_eval_batch_size\"] = 1\n",
    "parameters.training[\"num_train_epochs\"] = 7"
   ]
  },
  {
   "cell_type": "code",
   "execution_count": null,
   "metadata": {
    "id": "-fXDzcmVNJ7D",
    "colab": {
     "base_uri": "https://localhost:8080/",
     "height": 873
    },
    "outputId": "c33170d7-a783-488f-bc1e-89c376ea1f30"
   },
   "outputs": [],
   "source": [
    "run = wandb.init(\n",
    "    project=wandb_project_name,\n",
    "    job_type=\"training\",\n",
    "    anonymous=\"allow\"\n",
    ")\n",
    "\n",
    "wandb.config.update(dict(parameters.training))\n",
    "\n",
    "peft_config = LoraConfig(\n",
    "    r=parameters.lora.r,\n",
    "    lora_alpha=parameters.lora.lora_alpha,\n",
    "    target_modules=parameters.lora.target_modules,\n",
    "    bias=parameters.lora.bias,\n",
    "    task_type=parameters.lora.task_type\n",
    ")\n",
    "training_arguments = SFTConfig(\n",
    "    **parameters.training,\n",
    "    packing=True,\n",
    "    max_seq_length=seq_length,\n",
    "    output_dir=out_model_dir,\n",
    ")\n",
    "trainer = SFTTrainer(\n",
    "    model=model,\n",
    "    train_dataset=cld_train_dataset,\n",
    "    eval_dataset=cld_val_dataset,\n",
    "    peft_config=peft_config,\n",
    "    args=training_arguments,\n",
    "    callbacks=[EarlyStoppingCallback(early_stopping_patience=parameters.early_stopping.early_stopping_patience)],\n",
    ")\n",
    "trainer.model.config.use_cache = False\n",
    "\n",
    "trainer.train()"
   ]
  },
  {
   "cell_type": "code",
   "execution_count": null,
   "outputs": [],
   "source": [
    "from google.colab import runtime\n",
    "runtime.unassign()"
   ],
   "metadata": {
    "id": "CYhj4vi9X3C9"
   }
  }
 ],
 "metadata": {
  "accelerator": "GPU",
  "colab": {
   "gpuType": "A100",
   "machine_shape": "hm",
   "provenance": [],
   "include_colab_link": true
  },
  "kernelspec": {
   "display_name": "Python 3",
   "name": "python3"
  },
  "language_info": {
   "name": "python"
  },
  "widgets": {
   "application/vnd.jupyter.widget-state+json": {
    "00972fb730734bb3a8b2ac21fb440109": {
     "model_module": "@jupyter-widgets/controls",
     "model_name": "HBoxModel",
     "model_module_version": "1.5.0",
     "state": {
      "_dom_classes": [],
      "_model_module": "@jupyter-widgets/controls",
      "_model_module_version": "1.5.0",
      "_model_name": "HBoxModel",
      "_view_count": null,
      "_view_module": "@jupyter-widgets/controls",
      "_view_module_version": "1.5.0",
      "_view_name": "HBoxView",
      "box_style": "",
      "children": [
       "IPY_MODEL_43151c7e4a2c42d0a8530dfce7d99293",
       "IPY_MODEL_ae96066b090d455a91bdce2336f25139",
       "IPY_MODEL_aa10def4dc494f01a7948e14a4a70833"
      ],
      "layout": "IPY_MODEL_6882b5db4f8141b685cbb31dcd755dc5"
     }
    },
    "43151c7e4a2c42d0a8530dfce7d99293": {
     "model_module": "@jupyter-widgets/controls",
     "model_name": "HTMLModel",
     "model_module_version": "1.5.0",
     "state": {
      "_dom_classes": [],
      "_model_module": "@jupyter-widgets/controls",
      "_model_module_version": "1.5.0",
      "_model_name": "HTMLModel",
      "_view_count": null,
      "_view_module": "@jupyter-widgets/controls",
      "_view_module_version": "1.5.0",
      "_view_name": "HTMLView",
      "description": "",
      "description_tooltip": null,
      "layout": "IPY_MODEL_fc84f2113bdf4e6cab5d4ab1cccfa034",
      "placeholder": "​",
      "style": "IPY_MODEL_be44b5edc92e4c88a851c53ea2aec7ad",
      "value": "Loading checkpoint shards: 100%"
     }
    },
    "ae96066b090d455a91bdce2336f25139": {
     "model_module": "@jupyter-widgets/controls",
     "model_name": "FloatProgressModel",
     "model_module_version": "1.5.0",
     "state": {
      "_dom_classes": [],
      "_model_module": "@jupyter-widgets/controls",
      "_model_module_version": "1.5.0",
      "_model_name": "FloatProgressModel",
      "_view_count": null,
      "_view_module": "@jupyter-widgets/controls",
      "_view_module_version": "1.5.0",
      "_view_name": "ProgressView",
      "bar_style": "success",
      "description": "",
      "description_tooltip": null,
      "layout": "IPY_MODEL_8e2182bba96440b5bda6116f2f034c4e",
      "max": 5,
      "min": 0,
      "orientation": "horizontal",
      "style": "IPY_MODEL_d296581dba844100a9ccabff99dcf275",
      "value": 5
     }
    },
    "aa10def4dc494f01a7948e14a4a70833": {
     "model_module": "@jupyter-widgets/controls",
     "model_name": "HTMLModel",
     "model_module_version": "1.5.0",
     "state": {
      "_dom_classes": [],
      "_model_module": "@jupyter-widgets/controls",
      "_model_module_version": "1.5.0",
      "_model_name": "HTMLModel",
      "_view_count": null,
      "_view_module": "@jupyter-widgets/controls",
      "_view_module_version": "1.5.0",
      "_view_name": "HTMLView",
      "description": "",
      "description_tooltip": null,
      "layout": "IPY_MODEL_4319b115400b4fef944e79293122f7ed",
      "placeholder": "​",
      "style": "IPY_MODEL_7795376ab7224580a1643cec7a49ba9d",
      "value": " 5/5 [00:28&lt;00:00,  5.88s/it]"
     }
    },
    "6882b5db4f8141b685cbb31dcd755dc5": {
     "model_module": "@jupyter-widgets/base",
     "model_name": "LayoutModel",
     "model_module_version": "1.2.0",
     "state": {
      "_model_module": "@jupyter-widgets/base",
      "_model_module_version": "1.2.0",
      "_model_name": "LayoutModel",
      "_view_count": null,
      "_view_module": "@jupyter-widgets/base",
      "_view_module_version": "1.2.0",
      "_view_name": "LayoutView",
      "align_content": null,
      "align_items": null,
      "align_self": null,
      "border": null,
      "bottom": null,
      "display": null,
      "flex": null,
      "flex_flow": null,
      "grid_area": null,
      "grid_auto_columns": null,
      "grid_auto_flow": null,
      "grid_auto_rows": null,
      "grid_column": null,
      "grid_gap": null,
      "grid_row": null,
      "grid_template_areas": null,
      "grid_template_columns": null,
      "grid_template_rows": null,
      "height": null,
      "justify_content": null,
      "justify_items": null,
      "left": null,
      "margin": null,
      "max_height": null,
      "max_width": null,
      "min_height": null,
      "min_width": null,
      "object_fit": null,
      "object_position": null,
      "order": null,
      "overflow": null,
      "overflow_x": null,
      "overflow_y": null,
      "padding": null,
      "right": null,
      "top": null,
      "visibility": null,
      "width": null
     }
    },
    "fc84f2113bdf4e6cab5d4ab1cccfa034": {
     "model_module": "@jupyter-widgets/base",
     "model_name": "LayoutModel",
     "model_module_version": "1.2.0",
     "state": {
      "_model_module": "@jupyter-widgets/base",
      "_model_module_version": "1.2.0",
      "_model_name": "LayoutModel",
      "_view_count": null,
      "_view_module": "@jupyter-widgets/base",
      "_view_module_version": "1.2.0",
      "_view_name": "LayoutView",
      "align_content": null,
      "align_items": null,
      "align_self": null,
      "border": null,
      "bottom": null,
      "display": null,
      "flex": null,
      "flex_flow": null,
      "grid_area": null,
      "grid_auto_columns": null,
      "grid_auto_flow": null,
      "grid_auto_rows": null,
      "grid_column": null,
      "grid_gap": null,
      "grid_row": null,
      "grid_template_areas": null,
      "grid_template_columns": null,
      "grid_template_rows": null,
      "height": null,
      "justify_content": null,
      "justify_items": null,
      "left": null,
      "margin": null,
      "max_height": null,
      "max_width": null,
      "min_height": null,
      "min_width": null,
      "object_fit": null,
      "object_position": null,
      "order": null,
      "overflow": null,
      "overflow_x": null,
      "overflow_y": null,
      "padding": null,
      "right": null,
      "top": null,
      "visibility": null,
      "width": null
     }
    },
    "be44b5edc92e4c88a851c53ea2aec7ad": {
     "model_module": "@jupyter-widgets/controls",
     "model_name": "DescriptionStyleModel",
     "model_module_version": "1.5.0",
     "state": {
      "_model_module": "@jupyter-widgets/controls",
      "_model_module_version": "1.5.0",
      "_model_name": "DescriptionStyleModel",
      "_view_count": null,
      "_view_module": "@jupyter-widgets/base",
      "_view_module_version": "1.2.0",
      "_view_name": "StyleView",
      "description_width": ""
     }
    },
    "8e2182bba96440b5bda6116f2f034c4e": {
     "model_module": "@jupyter-widgets/base",
     "model_name": "LayoutModel",
     "model_module_version": "1.2.0",
     "state": {
      "_model_module": "@jupyter-widgets/base",
      "_model_module_version": "1.2.0",
      "_model_name": "LayoutModel",
      "_view_count": null,
      "_view_module": "@jupyter-widgets/base",
      "_view_module_version": "1.2.0",
      "_view_name": "LayoutView",
      "align_content": null,
      "align_items": null,
      "align_self": null,
      "border": null,
      "bottom": null,
      "display": null,
      "flex": null,
      "flex_flow": null,
      "grid_area": null,
      "grid_auto_columns": null,
      "grid_auto_flow": null,
      "grid_auto_rows": null,
      "grid_column": null,
      "grid_gap": null,
      "grid_row": null,
      "grid_template_areas": null,
      "grid_template_columns": null,
      "grid_template_rows": null,
      "height": null,
      "justify_content": null,
      "justify_items": null,
      "left": null,
      "margin": null,
      "max_height": null,
      "max_width": null,
      "min_height": null,
      "min_width": null,
      "object_fit": null,
      "object_position": null,
      "order": null,
      "overflow": null,
      "overflow_x": null,
      "overflow_y": null,
      "padding": null,
      "right": null,
      "top": null,
      "visibility": null,
      "width": null
     }
    },
    "d296581dba844100a9ccabff99dcf275": {
     "model_module": "@jupyter-widgets/controls",
     "model_name": "ProgressStyleModel",
     "model_module_version": "1.5.0",
     "state": {
      "_model_module": "@jupyter-widgets/controls",
      "_model_module_version": "1.5.0",
      "_model_name": "ProgressStyleModel",
      "_view_count": null,
      "_view_module": "@jupyter-widgets/base",
      "_view_module_version": "1.2.0",
      "_view_name": "StyleView",
      "bar_color": null,
      "description_width": ""
     }
    },
    "4319b115400b4fef944e79293122f7ed": {
     "model_module": "@jupyter-widgets/base",
     "model_name": "LayoutModel",
     "model_module_version": "1.2.0",
     "state": {
      "_model_module": "@jupyter-widgets/base",
      "_model_module_version": "1.2.0",
      "_model_name": "LayoutModel",
      "_view_count": null,
      "_view_module": "@jupyter-widgets/base",
      "_view_module_version": "1.2.0",
      "_view_name": "LayoutView",
      "align_content": null,
      "align_items": null,
      "align_self": null,
      "border": null,
      "bottom": null,
      "display": null,
      "flex": null,
      "flex_flow": null,
      "grid_area": null,
      "grid_auto_columns": null,
      "grid_auto_flow": null,
      "grid_auto_rows": null,
      "grid_column": null,
      "grid_gap": null,
      "grid_row": null,
      "grid_template_areas": null,
      "grid_template_columns": null,
      "grid_template_rows": null,
      "height": null,
      "justify_content": null,
      "justify_items": null,
      "left": null,
      "margin": null,
      "max_height": null,
      "max_width": null,
      "min_height": null,
      "min_width": null,
      "object_fit": null,
      "object_position": null,
      "order": null,
      "overflow": null,
      "overflow_x": null,
      "overflow_y": null,
      "padding": null,
      "right": null,
      "top": null,
      "visibility": null,
      "width": null
     }
    },
    "7795376ab7224580a1643cec7a49ba9d": {
     "model_module": "@jupyter-widgets/controls",
     "model_name": "DescriptionStyleModel",
     "model_module_version": "1.5.0",
     "state": {
      "_model_module": "@jupyter-widgets/controls",
      "_model_module_version": "1.5.0",
      "_model_name": "DescriptionStyleModel",
      "_view_count": null,
      "_view_module": "@jupyter-widgets/base",
      "_view_module_version": "1.2.0",
      "_view_name": "StyleView",
      "description_width": ""
     }
    }
   }
  }
 },
 "nbformat": 4,
 "nbformat_minor": 0
}
