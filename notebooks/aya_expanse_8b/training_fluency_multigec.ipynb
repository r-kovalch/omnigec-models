{
 "cells": [
  {
   "cell_type": "markdown",
   "metadata": {
    "id": "view-in-github",
    "colab_type": "text"
   },
   "source": [
    "<a href=\"https://colab.research.google.com/github/Reennon/multigec-models/blob/main/notebooks/aya_expanse_8b/multigec/multigec-fluency.ipynb\" target=\"_parent\"><img src=\"https://colab.research.google.com/assets/colab-badge.svg\" alt=\"Open In Colab\"/></a>"
   ]
  },
  {
   "cell_type": "code",
   "execution_count": null,
   "metadata": {
    "id": "UsXRO225aQG5"
   },
   "outputs": [],
   "source": [
    "import os\n",
    "\n",
    "from google.colab import userdata\n",
    "\n",
    "os.environ[\"GIT_TOKEN\"] = userdata.get('git_token')"
   ]
  },
  {
   "cell_type": "code",
   "execution_count": null,
   "metadata": {
    "colab": {
     "base_uri": "https://localhost:8080/"
    },
    "id": "J_IRXNxZaF4Y",
    "outputId": "c48e1307-f058-4e55-920f-905c12dbd59d"
   },
   "outputs": [],
   "source": [
    "!git clone https://$GIT_TOKEN@github.com/Reennon/omnigec-models.git"
   ]
  },
  {
   "cell_type": "code",
   "execution_count": null,
   "metadata": {
    "colab": {
     "base_uri": "https://localhost:8080/"
    },
    "id": "u7b_-L4YdQdS",
    "outputId": "8409ef79-5ac8-4692-ebd1-a881488cd4a1"
   },
   "outputs": [],
   "source": [
    "%cd omnigec-models"
   ]
  },
  {
   "cell_type": "code",
   "execution_count": null,
   "metadata": {
    "id": "ak_WBUcgdWYE",
    "colab": {
     "base_uri": "https://localhost:8080/"
    },
    "outputId": "4edce627-c520-4b36-c4d2-cf60f2e64593"
   },
   "outputs": [],
   "source": [
    "!git pull"
   ]
  },
  {
   "cell_type": "code",
   "execution_count": null,
   "metadata": {
    "colab": {
     "base_uri": "https://localhost:8080/"
    },
    "id": "M0zzclvTdlkE",
    "outputId": "5bc88493-e2bb-4b93-aa86-98708bdb8e99",
    "collapsed": true
   },
   "outputs": [],
   "source": [
    "!pip install -U bitsandbytes peft accelerate datasets sentencepiece wandb python-dotenv wtpsplit -q\n",
    "!pip install flash-attn --no-build-isolation -q\n",
    "!pip install wtpsplit==2.1.1 -q\n",
    "!pip install syntok==1.4.4 -q\n",
    "!pip install omegaconf -q\n",
    "!pip install wandb -q\n",
    "!pip install --upgrade transformers trl -q\n",
    "!pip install pandas numpy -q"
   ]
  },
  {
   "cell_type": "code",
   "execution_count": null,
   "metadata": {
    "colab": {
     "base_uri": "https://localhost:8080/"
    },
    "id": "lBGK2EtZO6tR",
    "outputId": "8e2209f3-b7d9-4532-91cb-62562959f1c5"
   },
   "outputs": [],
   "source": [
    "from google.colab import drive\n",
    "drive.mount('/gdrive')"
   ]
  },
  {
   "cell_type": "code",
   "execution_count": null,
   "metadata": {
    "id": "xLa_z_uleW1O"
   },
   "outputs": [],
   "source": [
    "import os\n",
    "\n",
    "from omegaconf import OmegaConf\n",
    "from transformers import AutoModelForCausalLM, AutoTokenizer, AutoConfig\n",
    "from huggingface_hub import login\n",
    "from src.utils.multigec import sentences, LANG_TO_CODE, LANG_CODE_TO_TOKEN\n",
    "from src.utils.aya_utils import training_formatting_prompts_func as formatting_prompts_func\n",
    "from langchain_core.prompts import PromptTemplate\n",
    "\n",
    "from src.instruction_templates import multigec_prompts\n",
    "\n",
    "import torch\n",
    "import wandb\n",
    "\n",
    "from transformers import BitsAndBytesConfig\n",
    "from tqdm import tqdm\n",
    "from trl.trainer import ConstantLengthDataset\n",
    "import pandas as pd\n",
    "from datasets import Dataset\n",
    "from transformers.trainer_callback import EarlyStoppingCallback\n",
    "\n",
    "from transformers import TrainingArguments\n",
    "from trl import SFTConfig, SFTTrainer\n",
    "from peft import LoraConfig\n",
    "\n",
    "tqdm.pandas()"
   ]
  },
  {
   "cell_type": "code",
   "execution_count": null,
   "metadata": {
    "id": "ZrXeF2PMTA9C"
   },
   "outputs": [],
   "source": [
    "parameters = OmegaConf.load(\"./params/aya_expanse_8b.yaml\")"
   ]
  },
  {
   "cell_type": "code",
   "execution_count": null,
   "metadata": {
    "id": "2orS0nY-j3QY"
   },
   "outputs": [],
   "source": [
    "track                   = \"fluency\"\n",
    "model_name              = \"aya-expanse-8b\"\n",
    "fine_tuned_model_name   = f\"aya-expanse-8b-multigec-{track}\"\n",
    "experiment_name         = f\"multigec-{track}-{model_name}\"\n",
    "\n",
    "hf_key                  = userdata.get(\"hf_key\")\n",
    "secret_wandb            = userdata.get(\"wandb_key\")\n",
    "\n",
    "in_path                 = f\"/gdrive/MyDrive/omnigec/datasets/multigec_{track}.csv\"\n",
    "out_path                = f\"/gdrive/MyDrive/omnigec/preds/multigec_test_{track}.csv\"\n",
    "out_model_dir           = f\"/gdrive/MyDrive/omnigec/models/{fine_tuned_model_name}\"\n",
    "\n",
    "QUANTIZE_4BIT           = True\n",
    "device                  = \"cuda:0\""
   ]
  },
  {
   "cell_type": "code",
   "execution_count": null,
   "metadata": {
    "colab": {
     "base_uri": "https://localhost:8080/"
    },
    "id": "28RJwo6zBniK",
    "outputId": "2ed3c3d2-cd5c-406c-c70c-84a4de7599bb",
    "collapsed": true
   },
   "outputs": [],
   "source": [
    "wandb_project_name = f'{model_name.upper()}-multigec-{track}'\n",
    "\n",
    "wandb.login(key = secret_wandb)"
   ]
  },
  {
   "cell_type": "code",
   "execution_count": null,
   "metadata": {
    "id": "5ATeEv_etKR1"
   },
   "outputs": [],
   "source": [
    "login(hf_key)"
   ]
  },
  {
   "cell_type": "code",
   "execution_count": null,
   "metadata": {
    "colab": {
     "base_uri": "https://localhost:8080/"
    },
    "id": "3WEPWmAw1zKx",
    "outputId": "19f367c3-3555-4358-e683-2d87589e5da8"
   },
   "outputs": [],
   "source": [
    "import gc\n",
    "\n",
    "def clear_gpu_memory():\n",
    "    torch.cuda.empty_cache()\n",
    "    print(gc.collect())\n",
    "clear_gpu_memory()"
   ]
  },
  {
   "cell_type": "code",
   "execution_count": null,
   "metadata": {
    "id": "oB4Vv3zFyHLd",
    "colab": {
     "base_uri": "https://localhost:8080/"
    },
    "outputId": "4c20e708-d87e-43fc-d748-ced835d8676e"
   },
   "outputs": [],
   "source": [
    "!env TORCH_USE_CUDA_DSA=1"
   ]
  },
  {
   "cell_type": "code",
   "execution_count": null,
   "metadata": {
    "colab": {
     "base_uri": "https://localhost:8080/",
     "height": 49,
     "referenced_widgets": [
      "2c04d052aa124424895f7e2208bed3b2",
      "88232970ab804942a2f66b60be121e5d",
      "52befae526e449e985cf751dc8837b50",
      "352ac190dfc04acc954bfed094019d8e",
      "3c01805445434c1eadb62ce21d0dc691",
      "c1994e817bcf4ce1944180025b7fa2ad",
      "7de37a4865f34c66bfd3e566c31b299a",
      "f63ef28e21c442a4ba803d19a2d123f0",
      "bd365b95bbd6446ead88cc03d781e0a2",
      "74dbd2d1d6b44ae1a832cc1f154d2ae6",
      "c7e8ffce77324476bbc8488eb8e16d20"
     ]
    },
    "id": "npCYpk8StL1L",
    "outputId": "bed8c572-1f09-4b11-a062-2ba5d1066f76"
   },
   "outputs": [],
   "source": [
    "checkpoint = \"CohereForAI/aya-expanse-8b\"\n",
    "quantization_config = None\n",
    "if QUANTIZE_4BIT:\n",
    "  quantization_config = BitsAndBytesConfig(\n",
    "      load_in_4bit=True,\n",
    "      bnb_4bit_quant_type=\"nf4\",\n",
    "      bnb_4bit_use_double_quant=True,\n",
    "      bnb_4bit_compute_dtype=torch.bfloat16,\n",
    "  )\n",
    "tokenizer = AutoTokenizer.from_pretrained(checkpoint)\n",
    "config = AutoConfig.from_pretrained(checkpoint)\n",
    "model = AutoModelForCausalLM.from_pretrained(\n",
    "    checkpoint,\n",
    "    config=config,\n",
    "    quantization_config=quantization_config,\n",
    "    torch_dtype=\"bfloat16\",\n",
    "    device_map=device,\n",
    "    attn_implementation=\"flash_attention_2\",\n",
    ")"
   ]
  },
  {
   "cell_type": "code",
   "execution_count": null,
   "metadata": {
    "id": "tc_-2FtptNPf"
   },
   "outputs": [],
   "source": [
    "multigec_df = pd.read_csv(in_path)\n",
    "train_df = multigec_df.loc[multigec_df.loc[:, \"split\"] == \"train\"]\n",
    "val_df = multigec_df.loc[multigec_df.loc[:, \"split\"] == \"val\"]"
   ]
  },
  {
   "cell_type": "code",
   "source": [
    "num_added_toks = tokenizer.add_tokens(\n",
    "    [v for v in LANG_CODE_TO_TOKEN.values()],\n",
    "    special_tokens=True\n",
    ")\n",
    "model.resize_token_embeddings(len(tokenizer))"
   ],
   "metadata": {
    "colab": {
     "base_uri": "https://localhost:8080/"
    },
    "id": "vCZ22H5qWpOa",
    "outputId": "ff2612b3-2155-4824-e101-e5ae6174b1b0"
   },
   "execution_count": null,
   "outputs": []
  },
  {
   "cell_type": "code",
   "execution_count": null,
   "metadata": {
    "id": "uQjCg7j6G3SL"
   },
   "outputs": [],
   "source": [
    "training_dataset = Dataset.from_pandas(train_df).shuffle()\n",
    "val_dataset = Dataset.from_pandas(val_df).shuffle()\n",
    "\n",
    "seq_length = 1600\n",
    "\n",
    "cld_train_dataset = ConstantLengthDataset(\n",
    "    tokenizer=tokenizer,\n",
    "    dataset=training_dataset,\n",
    "    seq_length=seq_length,\n",
    "    eos_token_id=tokenizer.eos_token_id,\n",
    "    shuffle=True,\n",
    "    append_concat_token=True,\n",
    "    add_special_tokens=True,\n",
    "    formatting_func=formatting_prompts_func,\n",
    ")\n",
    "cld_val_dataset = ConstantLengthDataset(\n",
    "    tokenizer=tokenizer,\n",
    "    dataset=val_dataset,\n",
    "    seq_length=int(seq_length/2),\n",
    "    eos_token_id=tokenizer.eos_token_id,\n",
    "    shuffle=True,\n",
    "    append_concat_token=True,\n",
    "    add_special_tokens=True,\n",
    "    formatting_func=formatting_prompts_func,\n",
    ")"
   ]
  },
  {
   "cell_type": "code",
   "execution_count": null,
   "metadata": {
    "id": "hMLq8PqqwozH"
   },
   "outputs": [],
   "source": [
    "parameters.training[\"per_device_train_batch_size\"] = 6\n",
    "parameters.training[\"num_train_epochs\"] = 9"
   ]
  },
  {
   "cell_type": "code",
   "execution_count": null,
   "metadata": {
    "colab": {
     "base_uri": "https://localhost:8080/",
     "height": 1000
    },
    "id": "-fXDzcmVNJ7D",
    "outputId": "57a3a130-3ad7-4bb0-e3d9-f8a4dbe0e7d3"
   },
   "outputs": [],
   "source": [
    "run = wandb.init(\n",
    "    project=wandb_project_name,\n",
    "    job_type=\"training\",\n",
    "    anonymous=\"allow\"\n",
    ")\n",
    "\n",
    "wandb.config.update(dict(parameters.training))\n",
    "\n",
    "peft_config = LoraConfig(\n",
    "    r=parameters.lora.r,\n",
    "    lora_alpha=parameters.lora.lora_alpha,\n",
    "    target_modules=list(parameters.lora.target_modules),\n",
    "    bias=parameters.lora.bias,\n",
    "    task_type=parameters.lora.task_type\n",
    ")\n",
    "training_arguments = SFTConfig(\n",
    "    **parameters.training,\n",
    "    packing=True,\n",
    "    max_seq_length=seq_length,\n",
    "    output_dir=out_model_dir,\n",
    ")\n",
    "trainer = SFTTrainer(\n",
    "    model=model,\n",
    "    train_dataset=cld_train_dataset,\n",
    "    eval_dataset=cld_val_dataset,\n",
    "    peft_config=peft_config,\n",
    "    args=training_arguments,\n",
    "    callbacks=[EarlyStoppingCallback(early_stopping_patience=parameters.early_stopping.early_stopping_patience)],\n",
    "    #formatting_func=formatting_prompts_func,\n",
    ")\n",
    "\n",
    "with torch.backends.cuda.sdp_kernel(\n",
    "    enable_flash=True,\n",
    "    enable_math=False,\n",
    "    enable_mem_efficient=False\n",
    "):\n",
    "    trainer.train()"
   ]
  },
  {
   "cell_type": "code",
   "source": [
    "from google.colab import runtime\n",
    "runtime.unassign()"
   ],
   "metadata": {
    "id": "MPXQU5vmyGO1"
   },
   "execution_count": null,
   "outputs": []
  }
 ],
 "metadata": {
  "accelerator": "GPU",
  "colab": {
   "gpuType": "A100",
   "machine_shape": "hm",
   "provenance": [],
   "include_colab_link": true
  },
  "kernelspec": {
   "display_name": "Python 3",
   "name": "python3"
  },
  "language_info": {
   "name": "python"
  },
  "widgets": {
   "application/vnd.jupyter.widget-state+json": {
    "2c04d052aa124424895f7e2208bed3b2": {
     "model_module": "@jupyter-widgets/controls",
     "model_name": "HBoxModel",
     "model_module_version": "1.5.0",
     "state": {
      "_dom_classes": [],
      "_model_module": "@jupyter-widgets/controls",
      "_model_module_version": "1.5.0",
      "_model_name": "HBoxModel",
      "_view_count": null,
      "_view_module": "@jupyter-widgets/controls",
      "_view_module_version": "1.5.0",
      "_view_name": "HBoxView",
      "box_style": "",
      "children": [
       "IPY_MODEL_88232970ab804942a2f66b60be121e5d",
       "IPY_MODEL_52befae526e449e985cf751dc8837b50",
       "IPY_MODEL_352ac190dfc04acc954bfed094019d8e"
      ],
      "layout": "IPY_MODEL_3c01805445434c1eadb62ce21d0dc691"
     }
    },
    "88232970ab804942a2f66b60be121e5d": {
     "model_module": "@jupyter-widgets/controls",
     "model_name": "HTMLModel",
     "model_module_version": "1.5.0",
     "state": {
      "_dom_classes": [],
      "_model_module": "@jupyter-widgets/controls",
      "_model_module_version": "1.5.0",
      "_model_name": "HTMLModel",
      "_view_count": null,
      "_view_module": "@jupyter-widgets/controls",
      "_view_module_version": "1.5.0",
      "_view_name": "HTMLView",
      "description": "",
      "description_tooltip": null,
      "layout": "IPY_MODEL_c1994e817bcf4ce1944180025b7fa2ad",
      "placeholder": "​",
      "style": "IPY_MODEL_7de37a4865f34c66bfd3e566c31b299a",
      "value": "Loading checkpoint shards: 100%"
     }
    },
    "52befae526e449e985cf751dc8837b50": {
     "model_module": "@jupyter-widgets/controls",
     "model_name": "FloatProgressModel",
     "model_module_version": "1.5.0",
     "state": {
      "_dom_classes": [],
      "_model_module": "@jupyter-widgets/controls",
      "_model_module_version": "1.5.0",
      "_model_name": "FloatProgressModel",
      "_view_count": null,
      "_view_module": "@jupyter-widgets/controls",
      "_view_module_version": "1.5.0",
      "_view_name": "ProgressView",
      "bar_style": "success",
      "description": "",
      "description_tooltip": null,
      "layout": "IPY_MODEL_f63ef28e21c442a4ba803d19a2d123f0",
      "max": 4,
      "min": 0,
      "orientation": "horizontal",
      "style": "IPY_MODEL_bd365b95bbd6446ead88cc03d781e0a2",
      "value": 4
     }
    },
    "352ac190dfc04acc954bfed094019d8e": {
     "model_module": "@jupyter-widgets/controls",
     "model_name": "HTMLModel",
     "model_module_version": "1.5.0",
     "state": {
      "_dom_classes": [],
      "_model_module": "@jupyter-widgets/controls",
      "_model_module_version": "1.5.0",
      "_model_name": "HTMLModel",
      "_view_count": null,
      "_view_module": "@jupyter-widgets/controls",
      "_view_module_version": "1.5.0",
      "_view_name": "HTMLView",
      "description": "",
      "description_tooltip": null,
      "layout": "IPY_MODEL_74dbd2d1d6b44ae1a832cc1f154d2ae6",
      "placeholder": "​",
      "style": "IPY_MODEL_c7e8ffce77324476bbc8488eb8e16d20",
      "value": " 4/4 [00:11&lt;00:00,  2.49s/it]"
     }
    },
    "3c01805445434c1eadb62ce21d0dc691": {
     "model_module": "@jupyter-widgets/base",
     "model_name": "LayoutModel",
     "model_module_version": "1.2.0",
     "state": {
      "_model_module": "@jupyter-widgets/base",
      "_model_module_version": "1.2.0",
      "_model_name": "LayoutModel",
      "_view_count": null,
      "_view_module": "@jupyter-widgets/base",
      "_view_module_version": "1.2.0",
      "_view_name": "LayoutView",
      "align_content": null,
      "align_items": null,
      "align_self": null,
      "border": null,
      "bottom": null,
      "display": null,
      "flex": null,
      "flex_flow": null,
      "grid_area": null,
      "grid_auto_columns": null,
      "grid_auto_flow": null,
      "grid_auto_rows": null,
      "grid_column": null,
      "grid_gap": null,
      "grid_row": null,
      "grid_template_areas": null,
      "grid_template_columns": null,
      "grid_template_rows": null,
      "height": null,
      "justify_content": null,
      "justify_items": null,
      "left": null,
      "margin": null,
      "max_height": null,
      "max_width": null,
      "min_height": null,
      "min_width": null,
      "object_fit": null,
      "object_position": null,
      "order": null,
      "overflow": null,
      "overflow_x": null,
      "overflow_y": null,
      "padding": null,
      "right": null,
      "top": null,
      "visibility": null,
      "width": null
     }
    },
    "c1994e817bcf4ce1944180025b7fa2ad": {
     "model_module": "@jupyter-widgets/base",
     "model_name": "LayoutModel",
     "model_module_version": "1.2.0",
     "state": {
      "_model_module": "@jupyter-widgets/base",
      "_model_module_version": "1.2.0",
      "_model_name": "LayoutModel",
      "_view_count": null,
      "_view_module": "@jupyter-widgets/base",
      "_view_module_version": "1.2.0",
      "_view_name": "LayoutView",
      "align_content": null,
      "align_items": null,
      "align_self": null,
      "border": null,
      "bottom": null,
      "display": null,
      "flex": null,
      "flex_flow": null,
      "grid_area": null,
      "grid_auto_columns": null,
      "grid_auto_flow": null,
      "grid_auto_rows": null,
      "grid_column": null,
      "grid_gap": null,
      "grid_row": null,
      "grid_template_areas": null,
      "grid_template_columns": null,
      "grid_template_rows": null,
      "height": null,
      "justify_content": null,
      "justify_items": null,
      "left": null,
      "margin": null,
      "max_height": null,
      "max_width": null,
      "min_height": null,
      "min_width": null,
      "object_fit": null,
      "object_position": null,
      "order": null,
      "overflow": null,
      "overflow_x": null,
      "overflow_y": null,
      "padding": null,
      "right": null,
      "top": null,
      "visibility": null,
      "width": null
     }
    },
    "7de37a4865f34c66bfd3e566c31b299a": {
     "model_module": "@jupyter-widgets/controls",
     "model_name": "DescriptionStyleModel",
     "model_module_version": "1.5.0",
     "state": {
      "_model_module": "@jupyter-widgets/controls",
      "_model_module_version": "1.5.0",
      "_model_name": "DescriptionStyleModel",
      "_view_count": null,
      "_view_module": "@jupyter-widgets/base",
      "_view_module_version": "1.2.0",
      "_view_name": "StyleView",
      "description_width": ""
     }
    },
    "f63ef28e21c442a4ba803d19a2d123f0": {
     "model_module": "@jupyter-widgets/base",
     "model_name": "LayoutModel",
     "model_module_version": "1.2.0",
     "state": {
      "_model_module": "@jupyter-widgets/base",
      "_model_module_version": "1.2.0",
      "_model_name": "LayoutModel",
      "_view_count": null,
      "_view_module": "@jupyter-widgets/base",
      "_view_module_version": "1.2.0",
      "_view_name": "LayoutView",
      "align_content": null,
      "align_items": null,
      "align_self": null,
      "border": null,
      "bottom": null,
      "display": null,
      "flex": null,
      "flex_flow": null,
      "grid_area": null,
      "grid_auto_columns": null,
      "grid_auto_flow": null,
      "grid_auto_rows": null,
      "grid_column": null,
      "grid_gap": null,
      "grid_row": null,
      "grid_template_areas": null,
      "grid_template_columns": null,
      "grid_template_rows": null,
      "height": null,
      "justify_content": null,
      "justify_items": null,
      "left": null,
      "margin": null,
      "max_height": null,
      "max_width": null,
      "min_height": null,
      "min_width": null,
      "object_fit": null,
      "object_position": null,
      "order": null,
      "overflow": null,
      "overflow_x": null,
      "overflow_y": null,
      "padding": null,
      "right": null,
      "top": null,
      "visibility": null,
      "width": null
     }
    },
    "bd365b95bbd6446ead88cc03d781e0a2": {
     "model_module": "@jupyter-widgets/controls",
     "model_name": "ProgressStyleModel",
     "model_module_version": "1.5.0",
     "state": {
      "_model_module": "@jupyter-widgets/controls",
      "_model_module_version": "1.5.0",
      "_model_name": "ProgressStyleModel",
      "_view_count": null,
      "_view_module": "@jupyter-widgets/base",
      "_view_module_version": "1.2.0",
      "_view_name": "StyleView",
      "bar_color": null,
      "description_width": ""
     }
    },
    "74dbd2d1d6b44ae1a832cc1f154d2ae6": {
     "model_module": "@jupyter-widgets/base",
     "model_name": "LayoutModel",
     "model_module_version": "1.2.0",
     "state": {
      "_model_module": "@jupyter-widgets/base",
      "_model_module_version": "1.2.0",
      "_model_name": "LayoutModel",
      "_view_count": null,
      "_view_module": "@jupyter-widgets/base",
      "_view_module_version": "1.2.0",
      "_view_name": "LayoutView",
      "align_content": null,
      "align_items": null,
      "align_self": null,
      "border": null,
      "bottom": null,
      "display": null,
      "flex": null,
      "flex_flow": null,
      "grid_area": null,
      "grid_auto_columns": null,
      "grid_auto_flow": null,
      "grid_auto_rows": null,
      "grid_column": null,
      "grid_gap": null,
      "grid_row": null,
      "grid_template_areas": null,
      "grid_template_columns": null,
      "grid_template_rows": null,
      "height": null,
      "justify_content": null,
      "justify_items": null,
      "left": null,
      "margin": null,
      "max_height": null,
      "max_width": null,
      "min_height": null,
      "min_width": null,
      "object_fit": null,
      "object_position": null,
      "order": null,
      "overflow": null,
      "overflow_x": null,
      "overflow_y": null,
      "padding": null,
      "right": null,
      "top": null,
      "visibility": null,
      "width": null
     }
    },
    "c7e8ffce77324476bbc8488eb8e16d20": {
     "model_module": "@jupyter-widgets/controls",
     "model_name": "DescriptionStyleModel",
     "model_module_version": "1.5.0",
     "state": {
      "_model_module": "@jupyter-widgets/controls",
      "_model_module_version": "1.5.0",
      "_model_name": "DescriptionStyleModel",
      "_view_count": null,
      "_view_module": "@jupyter-widgets/base",
      "_view_module_version": "1.2.0",
      "_view_name": "StyleView",
      "description_width": ""
     }
    }
   }
  }
 },
 "nbformat": 4,
 "nbformat_minor": 0
}
