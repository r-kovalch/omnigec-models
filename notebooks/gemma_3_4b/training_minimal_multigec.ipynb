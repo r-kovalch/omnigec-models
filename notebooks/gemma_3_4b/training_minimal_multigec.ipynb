{
 "cells": [
  {
   "cell_type": "markdown",
   "metadata": {
    "id": "view-in-github",
    "colab_type": "text"
   },
   "source": [
    "<a href=\"https://colab.research.google.com/github/Reennon/multigec-models/blob/main/notebooks/gemma_3_4b/multigec/multigec.ipynb\" target=\"_parent\"><img src=\"https://colab.research.google.com/assets/colab-badge.svg\" alt=\"Open In Colab\"/></a>"
   ]
  },
  {
   "cell_type": "code",
   "execution_count": null,
   "metadata": {
    "id": "UsXRO225aQG5"
   },
   "outputs": [],
   "source": [
    "import os\n",
    "\n",
    "from google.colab import userdata\n",
    "\n",
    "os.environ[\"GIT_TOKEN\"] = userdata.get('git_token')"
   ]
  },
  {
   "cell_type": "code",
   "execution_count": null,
   "metadata": {
    "id": "J_IRXNxZaF4Y"
   },
   "outputs": [],
   "source": [
    "!git clone https://$GIT_TOKEN@github.com/Reennon/omnigec-models.git"
   ]
  },
  {
   "cell_type": "code",
   "execution_count": null,
   "metadata": {
    "id": "u7b_-L4YdQdS"
   },
   "outputs": [],
   "source": [
    "%cd omnigec-models"
   ]
  },
  {
   "cell_type": "code",
   "execution_count": null,
   "metadata": {
    "id": "ak_WBUcgdWYE"
   },
   "outputs": [],
   "source": [
    "!git pull"
   ]
  },
  {
   "cell_type": "code",
   "execution_count": null,
   "metadata": {
    "id": "M0zzclvTdlkE",
    "collapsed": true
   },
   "outputs": [],
   "source": [
    "!pip install -U bitsandbytes peft accelerate datasets sentencepiece wandb python-dotenv wtpsplit -q\n",
    "!pip install flash-attn --no-build-isolation -q\n",
    "!pip install wtpsplit==2.1.1 -q\n",
    "!pip install syntok==1.4.4 -q\n",
    "!pip install omegaconf -q\n",
    "!pip install wandb -q\n",
    "!pip install --upgrade git+https://github.com/huggingface/transformers.git\n",
    "!pip install --upgrade trl -q\n",
    "!pip install pandas numpy -q"
   ]
  },
  {
   "cell_type": "code",
   "execution_count": null,
   "metadata": {
    "id": "lBGK2EtZO6tR"
   },
   "outputs": [],
   "source": [
    "from google.colab import drive\n",
    "drive.mount('/gdrive')"
   ]
  },
  {
   "cell_type": "code",
   "execution_count": null,
   "metadata": {
    "id": "xLa_z_uleW1O"
   },
   "outputs": [],
   "source": [
    "import os\n",
    "\n",
    "from omegaconf import OmegaConf\n",
    "from transformers import AutoModelForCausalLM, AutoTokenizer, AutoConfig\n",
    "from huggingface_hub import login\n",
    "from src.utils.multigec import sentences, LANG_TO_CODE, LANG_CODE_TO_TOKEN\n",
    "from src.utils.gemma_utils import training_formatting_prompts_func as formatting_prompts_func\n",
    "from langchain_core.prompts import PromptTemplate\n",
    "\n",
    "from src.instruction_templates import multigec_prompts\n",
    "\n",
    "import torch\n",
    "import wandb\n",
    "\n",
    "from transformers import BitsAndBytesConfig\n",
    "from tqdm import tqdm\n",
    "from trl.trainer import ConstantLengthDataset\n",
    "import pandas as pd\n",
    "from datasets import Dataset\n",
    "from transformers.trainer_callback import EarlyStoppingCallback\n",
    "\n",
    "from transformers import TrainingArguments\n",
    "from trl import SFTConfig, SFTTrainer\n",
    "from peft import LoraConfig\n",
    "\n",
    "tqdm.pandas()"
   ]
  },
  {
   "cell_type": "code",
   "execution_count": null,
   "metadata": {
    "id": "ZrXeF2PMTA9C"
   },
   "outputs": [],
   "source": [
    "parameters = OmegaConf.load(\"./params/gemma_3_4b.yaml\")"
   ]
  },
  {
   "cell_type": "code",
   "execution_count": null,
   "metadata": {
    "id": "2orS0nY-j3QY"
   },
   "outputs": [],
   "source": [
    "track                   = \"minimal\"\n",
    "model_name              = \"gemma-3-4b-it\"\n",
    "fine_tuned_model_name   = f\"gemma-3-4b-it-multigec-{track}\"\n",
    "experiment_name         = f\"multigec-{track}-{model_name}\"\n",
    "\n",
    "hf_key                  = userdata.get(\"hf_key\")\n",
    "secret_wandb            = userdata.get(\"wandb_key\")\n",
    "\n",
    "in_path                 = f\"/gdrive/MyDrive/omnigec/datasets/multigec_{track}.csv\"\n",
    "out_path                = f\"/gdrive/MyDrive/omnigec/preds/multigec_test_{track}.csv\"\n",
    "out_model_dir           = f\"/gdrive/MyDrive/omnigec/models/{fine_tuned_model_name}\"\n",
    "\n",
    "QUANTIZE_4BIT           = True\n",
    "device                  = \"cuda:0\""
   ]
  },
  {
   "cell_type": "code",
   "execution_count": null,
   "metadata": {
    "id": "28RJwo6zBniK",
    "collapsed": true
   },
   "outputs": [],
   "source": [
    "wandb_project_name = f'{model_name.upper()}-multigec-{track}'\n",
    "\n",
    "wandb.login(key = secret_wandb)"
   ]
  },
  {
   "cell_type": "code",
   "execution_count": null,
   "metadata": {
    "id": "5ATeEv_etKR1"
   },
   "outputs": [],
   "source": [
    "login(hf_key)"
   ]
  },
  {
   "cell_type": "code",
   "execution_count": null,
   "metadata": {
    "id": "oB4Vv3zFyHLd"
   },
   "outputs": [],
   "source": [
    "!env TORCH_USE_CUDA_DSA=1"
   ]
  },
  {
   "cell_type": "code",
   "execution_count": null,
   "metadata": {
    "id": "npCYpk8StL1L"
   },
   "outputs": [],
   "source": [
    "checkpoint = \"google/gemma-3-4b-it\"\n",
    "quantization_config = None\n",
    "if QUANTIZE_4BIT:\n",
    "  quantization_config = BitsAndBytesConfig(\n",
    "      load_in_4bit=True,\n",
    "      bnb_4bit_quant_type=\"nf4\",\n",
    "      bnb_4bit_use_double_quant=True,\n",
    "      bnb_4bit_compute_dtype=torch.bfloat16,\n",
    "      bnb_4bit_quant_storage=torch.bfloat16,\n",
    "  )\n",
    "tokenizer = AutoTokenizer.from_pretrained(checkpoint)\n",
    "config = AutoConfig.from_pretrained(checkpoint)\n",
    "config.text_config.use_cache = False\n",
    "model = AutoModelForCausalLM.from_pretrained(\n",
    "    checkpoint,\n",
    "    config=config,\n",
    "    quantization_config=quantization_config,\n",
    "    torch_dtype=\"bfloat16\",\n",
    "    device_map=device,\n",
    "    attn_implementation=\"eager\",\n",
    ")"
   ]
  },
  {
   "cell_type": "code",
   "execution_count": null,
   "metadata": {
    "id": "tc_-2FtptNPf"
   },
   "outputs": [],
   "source": [
    "multigec_df = pd.read_csv(in_path)\n",
    "train_df = multigec_df.loc[multigec_df.loc[:, \"split\"] == \"train\"]\n",
    "val_df = multigec_df.loc[multigec_df.loc[:, \"split\"] == \"val\"]"
   ]
  },
  {
   "cell_type": "code",
   "source": [
    "num_added_toks = tokenizer.add_tokens(\n",
    "    [v for v in LANG_CODE_TO_TOKEN.values()],\n",
    "    special_tokens=True\n",
    ")\n",
    "model.resize_token_embeddings(len(tokenizer))"
   ],
   "metadata": {
    "id": "vCZ22H5qWpOa"
   },
   "execution_count": null,
   "outputs": []
  },
  {
   "cell_type": "code",
   "execution_count": null,
   "metadata": {
    "id": "uQjCg7j6G3SL"
   },
   "outputs": [],
   "source": [
    "training_dataset = Dataset.from_pandas(train_df).shuffle()\n",
    "val_dataset = Dataset.from_pandas(val_df).shuffle()\n",
    "\n",
    "seq_length = 1600\n",
    "\n",
    "cld_train_dataset = ConstantLengthDataset(\n",
    "    tokenizer=tokenizer,\n",
    "    dataset=training_dataset,\n",
    "    seq_length=seq_length,\n",
    "    eos_token_id=tokenizer.eos_token_id,\n",
    "    shuffle=True,\n",
    "    append_concat_token=True,\n",
    "    add_special_tokens=True,\n",
    "    formatting_func=formatting_prompts_func,\n",
    ")\n",
    "cld_val_dataset = ConstantLengthDataset(\n",
    "    tokenizer=tokenizer,\n",
    "    dataset=val_dataset,\n",
    "    seq_length=int(seq_length/2),\n",
    "    eos_token_id=tokenizer.eos_token_id,\n",
    "    shuffle=True,\n",
    "    append_concat_token=True,\n",
    "    add_special_tokens=True,\n",
    "    formatting_func=formatting_prompts_func,\n",
    ")"
   ]
  },
  {
   "cell_type": "code",
   "execution_count": null,
   "metadata": {
    "id": "hMLq8PqqwozH"
   },
   "outputs": [],
   "source": [
    "parameters.training[\"per_device_train_batch_size\"] = 4"
   ]
  },
  {
   "cell_type": "code",
   "execution_count": null,
   "metadata": {
    "id": "-fXDzcmVNJ7D"
   },
   "outputs": [],
   "source": [
    "run = wandb.init(\n",
    "    project=wandb_project_name,\n",
    "    job_type=\"training\",\n",
    "    anonymous=\"allow\"\n",
    ")\n",
    "\n",
    "wandb.config.update(dict(parameters.training))\n",
    "\n",
    "peft_config = LoraConfig(\n",
    "    r=parameters.lora.r,\n",
    "    lora_alpha=parameters.lora.lora_alpha,\n",
    "    target_modules=list(parameters.lora.target_modules),\n",
    "    bias=parameters.lora.bias,\n",
    "    task_type=parameters.lora.task_type\n",
    ")\n",
    "training_arguments = SFTConfig(\n",
    "    **parameters.training,\n",
    "    packing=True,\n",
    "    max_seq_length=seq_length,\n",
    "    output_dir=out_model_dir,\n",
    ")\n",
    "trainer = SFTTrainer(\n",
    "    model=model,\n",
    "    train_dataset=cld_train_dataset,\n",
    "    eval_dataset=cld_val_dataset,\n",
    "    peft_config=peft_config,\n",
    "    args=training_arguments,\n",
    "    callbacks=[EarlyStoppingCallback(early_stopping_patience=parameters.early_stopping.early_stopping_patience)],\n",
    ")\n",
    "trainer.model.config.use_cache = False\n",
    "\n",
    "trainer.train()"
   ]
  },
  {
   "cell_type": "code",
   "execution_count": null,
   "outputs": [],
   "source": [
    "from google.colab import runtime\n",
    "runtime.unassign()"
   ],
   "metadata": {
    "id": "CYhj4vi9X3C9"
   }
  }
 ],
 "metadata": {
  "accelerator": "GPU",
  "colab": {
   "gpuType": "A100",
   "machine_shape": "hm",
   "provenance": [],
   "include_colab_link": true
  },
  "kernelspec": {
   "display_name": "Python 3",
   "name": "python3"
  },
  "language_info": {
   "name": "python"
  }
 },
 "nbformat": 4,
 "nbformat_minor": 0
}
